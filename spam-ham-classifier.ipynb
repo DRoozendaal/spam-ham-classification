{
 "cells": [
  {
   "cell_type": "code",
   "execution_count": 1,
   "id": "10d965b8",
   "metadata": {},
   "outputs": [],
   "source": [
    "# import libraries\n",
    "from collections import Counter\n",
    "\n",
    "# Standard libraries\n",
    "import pandas as pd\n",
    "import numpy as np\n",
    "import matplotlib.pyplot as plt\n",
    "\n",
    "# Library to make wordclouds\n",
    "from wordcloud import WordCloud\n",
    "\n",
    "# Natural language toolkit, the most popular library for NLP\n",
    "import nltk\n",
    "from nltk.tokenize import word_tokenize\n",
    "\n",
    "# Scikit-learn: all you need for machine learning\n",
    "from sklearn.metrics import precision_score, recall_score, f1_score, accuracy_score, confusion_matrix\n",
    "from sklearn.model_selection import train_test_split\n",
    "from sklearn.linear_model import LogisticRegression\n",
    "from sklearn.feature_extraction.text import CountVectorizer, TfidfVectorizer\n",
    "\n",
    "# gensim library for representing documents as semantic vectors\n",
    "from gensim.models import KeyedVectors\n",
    "import gensim.downloader as api\n",
    "\n",
    "# Command to show figures in a notebook\n",
    "%matplotlib inline"
   ]
  },
  {
   "cell_type": "code",
   "execution_count": 133,
   "id": "dc673bf1",
   "metadata": {},
   "outputs": [
    {
     "name": "stderr",
     "output_type": "stream",
     "text": [
      "[nltk_data] Downloading package punkt to\n",
      "[nltk_data]     /Users/roozendaal/nltk_data...\n",
      "[nltk_data]   Package punkt is already up-to-date!\n"
     ]
    },
    {
     "data": {
      "text/plain": [
       "True"
      ]
     },
     "execution_count": 133,
     "metadata": {},
     "output_type": "execute_result"
    }
   ],
   "source": [
    "# download package necessary for nltk\n",
    "nltk.download('punkt')"
   ]
  },
  {
   "cell_type": "markdown",
   "id": "a02f59f4",
   "metadata": {},
   "source": [
    "# Data Collection"
   ]
  },
  {
   "cell_type": "code",
   "execution_count": 134,
   "id": "579b49b0",
   "metadata": {},
   "outputs": [
    {
     "data": {
      "text/html": [
       "<div>\n",
       "<style scoped>\n",
       "    .dataframe tbody tr th:only-of-type {\n",
       "        vertical-align: middle;\n",
       "    }\n",
       "\n",
       "    .dataframe tbody tr th {\n",
       "        vertical-align: top;\n",
       "    }\n",
       "\n",
       "    .dataframe thead th {\n",
       "        text-align: right;\n",
       "    }\n",
       "</style>\n",
       "<table border=\"1\" class=\"dataframe\">\n",
       "  <thead>\n",
       "    <tr style=\"text-align: right;\">\n",
       "      <th></th>\n",
       "      <th>Category</th>\n",
       "      <th>Message</th>\n",
       "    </tr>\n",
       "  </thead>\n",
       "  <tbody>\n",
       "    <tr>\n",
       "      <th>0</th>\n",
       "      <td>ham</td>\n",
       "      <td>Go until jurong point, crazy.. Available only ...</td>\n",
       "    </tr>\n",
       "    <tr>\n",
       "      <th>1</th>\n",
       "      <td>ham</td>\n",
       "      <td>Ok lar... Joking wif u oni...</td>\n",
       "    </tr>\n",
       "    <tr>\n",
       "      <th>2</th>\n",
       "      <td>spam</td>\n",
       "      <td>Free entry in 2 a wkly comp to win FA Cup fina...</td>\n",
       "    </tr>\n",
       "    <tr>\n",
       "      <th>3</th>\n",
       "      <td>ham</td>\n",
       "      <td>U dun say so early hor... U c already then say...</td>\n",
       "    </tr>\n",
       "    <tr>\n",
       "      <th>4</th>\n",
       "      <td>ham</td>\n",
       "      <td>Nah I don't think he goes to usf, he lives aro...</td>\n",
       "    </tr>\n",
       "  </tbody>\n",
       "</table>\n",
       "</div>"
      ],
      "text/plain": [
       "  Category                                            Message\n",
       "0      ham  Go until jurong point, crazy.. Available only ...\n",
       "1      ham                      Ok lar... Joking wif u oni...\n",
       "2     spam  Free entry in 2 a wkly comp to win FA Cup fina...\n",
       "3      ham  U dun say so early hor... U c already then say...\n",
       "4      ham  Nah I don't think he goes to usf, he lives aro..."
      ]
     },
     "execution_count": 134,
     "metadata": {},
     "output_type": "execute_result"
    }
   ],
   "source": [
    "# Load in dataset\n",
    "# Category is the label of the email (spam or ham)\n",
    "\n",
    "data = pd.read_csv('spam.csv')\n",
    "data.head()"
   ]
  },
  {
   "cell_type": "markdown",
   "id": "ff35abf2",
   "metadata": {},
   "source": [
    "# Data Preparation"
   ]
  },
  {
   "cell_type": "code",
   "execution_count": 135,
   "id": "a822d0f1",
   "metadata": {},
   "outputs": [],
   "source": [
    "example = 'This is an example sentence, with some punctuation,.!     characters &* and smileys :)'"
   ]
  },
  {
   "cell_type": "code",
   "execution_count": 136,
   "id": "d175f03f",
   "metadata": {},
   "outputs": [
    {
     "data": {
      "text/plain": [
       "['This',\n",
       " 'is',\n",
       " 'an',\n",
       " 'example',\n",
       " 'sentence,',\n",
       " 'with',\n",
       " 'some',\n",
       " 'punctuation,.!',\n",
       " 'characters',\n",
       " '&*',\n",
       " 'and',\n",
       " 'smileys',\n",
       " ':)']"
      ]
     },
     "execution_count": 136,
     "metadata": {},
     "output_type": "execute_result"
    }
   ],
   "source": [
    "# split sentence on whitespace, keeping all punctuation as part of a word\n",
    "example.split()"
   ]
  },
  {
   "cell_type": "code",
   "execution_count": 137,
   "id": "dc4ccb03",
   "metadata": {},
   "outputs": [
    {
     "data": {
      "text/plain": [
       "['This',\n",
       " 'is',\n",
       " 'an',\n",
       " 'example',\n",
       " 'sentence',\n",
       " ',',\n",
       " 'with',\n",
       " 'some',\n",
       " 'punctuation',\n",
       " ',',\n",
       " '.',\n",
       " '!',\n",
       " 'characters',\n",
       " '&',\n",
       " '*',\n",
       " 'and',\n",
       " 'smileys',\n",
       " ':',\n",
       " ')']"
      ]
     },
     "execution_count": 137,
     "metadata": {},
     "output_type": "execute_result"
    }
   ],
   "source": [
    "# split on words and punctuation with word tokenizer from the nltk package\n",
    "word_tokenize(example)"
   ]
  },
  {
   "cell_type": "code",
   "execution_count": 138,
   "id": "697ec8df",
   "metadata": {},
   "outputs": [],
   "source": [
    "# Lowercase all words\n",
    "data['Message'] = data['Message'].str.lower()"
   ]
  },
  {
   "cell_type": "code",
   "execution_count": 139,
   "id": "76f18deb",
   "metadata": {},
   "outputs": [],
   "source": [
    "# Tokenize all sentences\n",
    "data['tokens'] = data['Message'].apply(word_tokenize)"
   ]
  },
  {
   "cell_type": "code",
   "execution_count": 140,
   "id": "8de9a7a0",
   "metadata": {},
   "outputs": [],
   "source": [
    "def remove_tokens(tokens, tokens_to_remove):\n",
    "    return [word for word in tokens if word not in tokens_to_remove]"
   ]
  },
  {
   "cell_type": "code",
   "execution_count": 141,
   "id": "179b239f",
   "metadata": {},
   "outputs": [],
   "source": [
    "# Remove stopwords\n",
    "stopwords = ['the', 'a', 'an', 'is']\n",
    "data['cleaned_tokens'] = data['tokens'].apply(remove_tokens, args=(stopwords,))"
   ]
  },
  {
   "cell_type": "code",
   "execution_count": 142,
   "id": "39efe750",
   "metadata": {},
   "outputs": [],
   "source": [
    "# Remove punctuation\n",
    "punctuation = [',', '.', ':']\n",
    "data['cleaned_tokens'] = data['tokens'].apply(remove_tokens, args=(punctuation,))"
   ]
  },
  {
   "cell_type": "code",
   "execution_count": 143,
   "id": "ccc73357",
   "metadata": {},
   "outputs": [],
   "source": [
    "# Stemming\n",
    "# There are 2 different stemmers, play around to see the difference!\n",
    "from nltk.stem import PorterStemmer\n",
    "from nltk.stem import LancasterStemmer"
   ]
  },
  {
   "cell_type": "code",
   "execution_count": 144,
   "id": "48df0db6",
   "metadata": {},
   "outputs": [],
   "source": [
    "porter_stemmer = PorterStemmer()\n",
    "lancaster_stemmer = LancasterStemmer()"
   ]
  },
  {
   "cell_type": "code",
   "execution_count": 145,
   "id": "272d0e2c",
   "metadata": {},
   "outputs": [],
   "source": [
    "def stem_tokens(tokens, stemmer):\n",
    "    return [stemmer.stem(token) for token in tokens]"
   ]
  },
  {
   "cell_type": "code",
   "execution_count": 146,
   "id": "5b780cce",
   "metadata": {},
   "outputs": [
    {
     "name": "stdout",
     "output_type": "stream",
     "text": [
      "porter stemmer:  ['connect', 'connect', 'connect', 'connect', 'connect', 'connectiion']\n",
      "lancaster stemmer:  ['connect', 'connect', 'connect', 'connect', 'connect', 'connecty']\n"
     ]
    }
   ],
   "source": [
    "examples = ['connect', 'connection', 'connections', 'connected', 'connecting', 'connectiion']\n",
    "\n",
    "print('porter stemmer: ', stem_tokens(examples, porter_stemmer))\n",
    "print('lancaster stemmer: ', stem_tokens(examples, lancaster_stemmer))"
   ]
  },
  {
   "cell_type": "code",
   "execution_count": 147,
   "id": "1dfb9406",
   "metadata": {},
   "outputs": [],
   "source": [
    "data['stemmed_tokens'] = data['cleaned_tokens'].apply(stem_tokens, args=(porter_stemmer,))"
   ]
  },
  {
   "cell_type": "code",
   "execution_count": 148,
   "id": "4e4ad1a4",
   "metadata": {},
   "outputs": [
    {
     "data": {
      "text/html": [
       "<div>\n",
       "<style scoped>\n",
       "    .dataframe tbody tr th:only-of-type {\n",
       "        vertical-align: middle;\n",
       "    }\n",
       "\n",
       "    .dataframe tbody tr th {\n",
       "        vertical-align: top;\n",
       "    }\n",
       "\n",
       "    .dataframe thead th {\n",
       "        text-align: right;\n",
       "    }\n",
       "</style>\n",
       "<table border=\"1\" class=\"dataframe\">\n",
       "  <thead>\n",
       "    <tr style=\"text-align: right;\">\n",
       "      <th></th>\n",
       "      <th>Category</th>\n",
       "      <th>Message</th>\n",
       "      <th>tokens</th>\n",
       "      <th>cleaned_tokens</th>\n",
       "      <th>stemmed_tokens</th>\n",
       "    </tr>\n",
       "  </thead>\n",
       "  <tbody>\n",
       "    <tr>\n",
       "      <th>0</th>\n",
       "      <td>ham</td>\n",
       "      <td>go until jurong point, crazy.. available only ...</td>\n",
       "      <td>[go, until, jurong, point, ,, crazy, .., avail...</td>\n",
       "      <td>[go, until, jurong, point, crazy, .., availabl...</td>\n",
       "      <td>[go, until, jurong, point, crazi, .., avail, o...</td>\n",
       "    </tr>\n",
       "    <tr>\n",
       "      <th>1</th>\n",
       "      <td>ham</td>\n",
       "      <td>ok lar... joking wif u oni...</td>\n",
       "      <td>[ok, lar, ..., joking, wif, u, oni, ...]</td>\n",
       "      <td>[ok, lar, ..., joking, wif, u, oni, ...]</td>\n",
       "      <td>[ok, lar, ..., joke, wif, u, oni, ...]</td>\n",
       "    </tr>\n",
       "  </tbody>\n",
       "</table>\n",
       "</div>"
      ],
      "text/plain": [
       "  Category                                            Message  \\\n",
       "0      ham  go until jurong point, crazy.. available only ...   \n",
       "1      ham                      ok lar... joking wif u oni...   \n",
       "\n",
       "                                              tokens  \\\n",
       "0  [go, until, jurong, point, ,, crazy, .., avail...   \n",
       "1           [ok, lar, ..., joking, wif, u, oni, ...]   \n",
       "\n",
       "                                      cleaned_tokens  \\\n",
       "0  [go, until, jurong, point, crazy, .., availabl...   \n",
       "1           [ok, lar, ..., joking, wif, u, oni, ...]   \n",
       "\n",
       "                                      stemmed_tokens  \n",
       "0  [go, until, jurong, point, crazi, .., avail, o...  \n",
       "1             [ok, lar, ..., joke, wif, u, oni, ...]  "
      ]
     },
     "execution_count": 148,
     "metadata": {},
     "output_type": "execute_result"
    }
   ],
   "source": [
    "data.head(2)"
   ]
  },
  {
   "cell_type": "markdown",
   "id": "923e5d10",
   "metadata": {},
   "source": [
    "# Data Exploration"
   ]
  },
  {
   "cell_type": "code",
   "execution_count": 149,
   "id": "45c1203f",
   "metadata": {},
   "outputs": [
    {
     "data": {
      "text/html": [
       "<div>\n",
       "<style scoped>\n",
       "    .dataframe tbody tr th:only-of-type {\n",
       "        vertical-align: middle;\n",
       "    }\n",
       "\n",
       "    .dataframe tbody tr th {\n",
       "        vertical-align: top;\n",
       "    }\n",
       "\n",
       "    .dataframe thead th {\n",
       "        text-align: right;\n",
       "    }\n",
       "</style>\n",
       "<table border=\"1\" class=\"dataframe\">\n",
       "  <thead>\n",
       "    <tr style=\"text-align: right;\">\n",
       "      <th></th>\n",
       "      <th>Message</th>\n",
       "      <th>tokens</th>\n",
       "      <th>cleaned_tokens</th>\n",
       "      <th>stemmed_tokens</th>\n",
       "    </tr>\n",
       "    <tr>\n",
       "      <th>Category</th>\n",
       "      <th></th>\n",
       "      <th></th>\n",
       "      <th></th>\n",
       "      <th></th>\n",
       "    </tr>\n",
       "  </thead>\n",
       "  <tbody>\n",
       "    <tr>\n",
       "      <th>ham</th>\n",
       "      <td>4825</td>\n",
       "      <td>4825</td>\n",
       "      <td>4825</td>\n",
       "      <td>4825</td>\n",
       "    </tr>\n",
       "    <tr>\n",
       "      <th>spam</th>\n",
       "      <td>747</td>\n",
       "      <td>747</td>\n",
       "      <td>747</td>\n",
       "      <td>747</td>\n",
       "    </tr>\n",
       "  </tbody>\n",
       "</table>\n",
       "</div>"
      ],
      "text/plain": [
       "          Message  tokens  cleaned_tokens  stemmed_tokens\n",
       "Category                                                 \n",
       "ham          4825    4825            4825            4825\n",
       "spam          747     747             747             747"
      ]
     },
     "execution_count": 149,
     "metadata": {},
     "output_type": "execute_result"
    }
   ],
   "source": [
    "# Count the number of ham / spam in the Category column\n",
    "data.groupby('Category').count()"
   ]
  },
  {
   "cell_type": "code",
   "execution_count": 152,
   "id": "735778c6",
   "metadata": {},
   "outputs": [
    {
     "data": {
      "text/html": [
       "<div>\n",
       "<style scoped>\n",
       "    .dataframe tbody tr th:only-of-type {\n",
       "        vertical-align: middle;\n",
       "    }\n",
       "\n",
       "    .dataframe tbody tr th {\n",
       "        vertical-align: top;\n",
       "    }\n",
       "\n",
       "    .dataframe thead th {\n",
       "        text-align: right;\n",
       "    }\n",
       "</style>\n",
       "<table border=\"1\" class=\"dataframe\">\n",
       "  <thead>\n",
       "    <tr style=\"text-align: right;\">\n",
       "      <th></th>\n",
       "      <th>Category</th>\n",
       "      <th>Message</th>\n",
       "      <th>tokens</th>\n",
       "      <th>cleaned_tokens</th>\n",
       "      <th>stemmed_tokens</th>\n",
       "    </tr>\n",
       "  </thead>\n",
       "  <tbody>\n",
       "  </tbody>\n",
       "</table>\n",
       "</div>"
      ],
      "text/plain": [
       "Empty DataFrame\n",
       "Columns: [Category, Message, tokens, cleaned_tokens, stemmed_tokens]\n",
       "Index: []"
      ]
     },
     "execution_count": 152,
     "metadata": {},
     "output_type": "execute_result"
    }
   ],
   "source": [
    "# Are there any empty messages?\n",
    "data[data['stemmed_tokens'].str.len() == 0]"
   ]
  },
  {
   "cell_type": "code",
   "execution_count": 158,
   "id": "b2430c64",
   "metadata": {},
   "outputs": [
    {
     "name": "stdout",
     "output_type": "stream",
     "text": [
      "ham\n",
      "somewhere out there beneath the pale moon light someone think in of u some where out there where dreams come true... goodnite &amp; sweet dreams\n",
      "\n",
      "ham\n",
      "is that on the telly? no its brdget jones!\n",
      "\n",
      "ham\n",
      "ok\n",
      "\n",
      "spam\n",
      "bloomberg -message center +447797706009 why wait? apply for your future http://careers. bloomberg.com\n",
      "\n",
      "ham\n",
      "what is the plural of the noun research?\n",
      "\n"
     ]
    }
   ],
   "source": [
    "# print some random messages to check the labels\n",
    "for i, row in data.sample(5, random_state=4).iterrows():\n",
    "    print(row['Category'])\n",
    "    print(row['Message'])\n",
    "    print()"
   ]
  },
  {
   "cell_type": "code",
   "execution_count": 100,
   "id": "30d77263",
   "metadata": {},
   "outputs": [
    {
     "data": {
      "image/png": "[encoded data removed]",
      "text/plain": [
       "<Figure size 432x288 with 1 Axes>"
      ]
     },
     "metadata": {
      "needs_background": "light"
     },
     "output_type": "display_data"
    }
   ],
   "source": [
    "# Distribution of the nr of words per sentence\n",
    "data['stemmed_tokens'].str.len().hist(bins=100);"
   ]
  },
  {
   "cell_type": "code",
   "execution_count": 101,
   "id": "623f5c2b",
   "metadata": {},
   "outputs": [],
   "source": [
    "# Make separate variables for spam and ham categories\n",
    "ham = data[data['Category'] == 'ham']\n",
    "spam = data[data['Category'] == 'spam']"
   ]
  },
  {
   "cell_type": "code",
   "execution_count": 102,
   "id": "15ef0814",
   "metadata": {},
   "outputs": [
    {
     "data": {
      "text/plain": [
       "i      2880\n",
       "you    1939\n",
       "to     1562\n",
       "?      1375\n",
       "...    1139\n",
       "the    1131\n",
       "a      1064\n",
       "u       994\n",
       "it      924\n",
       "and     856\n",
       "Name: stemmed_tokens, dtype: int64"
      ]
     },
     "execution_count": 102,
     "metadata": {},
     "output_type": "execute_result"
    }
   ],
   "source": [
    "# Store all tokens for category ham in one long list, \n",
    "# \"explode\" is a very handy buildin function for that (explode a list of lists)\n",
    "ham_tokens = ham.explode('stemmed_tokens')['stemmed_tokens']\n",
    "# Count the frequencies per word\n",
    "ham_tokens.value_counts()[:10]"
   ]
  },
  {
   "cell_type": "code",
   "execution_count": 103,
   "id": "2c3a02be",
   "metadata": {},
   "outputs": [
    {
     "data": {
      "text/plain": [
       "to      687\n",
       "!       546\n",
       "a       377\n",
       "call    362\n",
       "you     297\n",
       "your    278\n",
       "free    219\n",
       "for     203\n",
       "the     203\n",
       "now     199\n",
       "Name: stemmed_tokens, dtype: int64"
      ]
     },
     "execution_count": 103,
     "metadata": {},
     "output_type": "execute_result"
    }
   ],
   "source": [
    "# Store all tokens for category spam in one list\n",
    "spam_tokens = spam.explode('stemmed_tokens')['stemmed_tokens']\n",
    "# Count the frequencies per word\n",
    "spam_tokens.value_counts()[:10]"
   ]
  },
  {
   "cell_type": "code",
   "execution_count": 104,
   "id": "1e4fb6ca",
   "metadata": {},
   "outputs": [
    {
     "data": {
      "image/png": "[encoded data removed]",
      "text/plain": [
       "<Figure size 576x576 with 1 Axes>"
      ]
     },
     "metadata": {
      "needs_background": "light"
     },
     "output_type": "display_data"
    }
   ],
   "source": [
    "# Show word cloud for spam tokens\n",
    "# TODO: try with ham tokens\n",
    "one_big_string_of_tokens = ' '.join(spam_tokens)\n",
    "wordcloud = WordCloud(width = 800, height = 800,\n",
    "                background_color ='white',\n",
    "                min_font_size = 10).generate(one_big_string_of_tokens)\n",
    " \n",
    "plt.figure(figsize = (8, 8), facecolor = None)\n",
    "plt.imshow(wordcloud)\n",
    "plt.axis(\"off\");"
   ]
  },
  {
   "cell_type": "code",
   "execution_count": 105,
   "id": "27d81294",
   "metadata": {},
   "outputs": [],
   "source": [
    "# Make a vocabulary for typical spam and ham keywords\n",
    "spam_keywords = ['claim', 'win', 'repli', 'urgent', 'call', 'free', 'prize', 'now', 'txt', '$', 'click', 'here',\n",
    "                'onlin', 'select']\n",
    "ham_keywords = ['go', 'love', 'come', 'will', 'thanks', 'hope', 'time', 'friend', 'tonight', 'tomorrow', \n",
    "                'ok', 'meet', 'darl']\n",
    "ham_spam_vocabulary = sorted(spam_keywords + ham_keywords)"
   ]
  },
  {
   "cell_type": "markdown",
   "id": "c5a47cdc",
   "metadata": {},
   "source": [
    "## The Data exploration / preparation phase usually consists of a few iterations, where each time you visualize the results and come up with new ideas based on what you see in the results\n",
    "\n",
    "- TODO: add more punctuation\n",
    "- TODO: add more stopwords\n",
    "- TODO: add more spam / ham keywords"
   ]
  },
  {
   "attachments": {
    "image.png": {
     "image/png": "[encoded data removed]"
    }
   },
   "cell_type": "markdown",
   "id": "2434dec6",
   "metadata": {},
   "source": [
    "# Convert text to vectors\n",
    "To let a classifier learn the difference between spam and ham messages we need to convert the text to vectors. We do this by making a vocabulary for typical spam and ham keywords. We then count the number of occurences in each message. This technique is called Bag of Words. Because you take all the words, put them in a bag and count the frequencies. We limit our bag to a predefined vocabulary.\n",
    "\n",
    "![image.png](attachment:image.png)"
   ]
  },
  {
   "cell_type": "code",
   "execution_count": 106,
   "id": "6bf41a70",
   "metadata": {},
   "outputs": [],
   "source": [
    "def transform_text_to_vector(tokens, vocabulary):\n",
    "    # Store the frequency of the vocabulary words per message in a sorted (alphabetical) list => vector\n",
    "    word_frequencies = []\n",
    "    for vocabulary_word in vocabulary:\n",
    "        word_frequencies.append(tokens.count(vocabulary_word))\n",
    "    return np.array(word_frequencies)"
   ]
  },
  {
   "cell_type": "code",
   "execution_count": 113,
   "id": "3def0a5a",
   "metadata": {},
   "outputs": [
    {
     "data": {
      "text/plain": [
       "'WINNER!! As a valued network customer you have been selected to receivea £900 prize reward! To claim call 09061701461. Claim code KL341. Valid 12 hours only.'"
      ]
     },
     "execution_count": 113,
     "metadata": {},
     "output_type": "execute_result"
    }
   ],
   "source": [
    "# Example message\n",
    "example_message = data['Message'].loc[8]\n",
    "example_message"
   ]
  },
  {
   "cell_type": "code",
   "execution_count": 108,
   "id": "b37fbebf",
   "metadata": {},
   "outputs": [
    {
     "name": "stdout",
     "output_type": "stream",
     "text": [
      "['$', 'call', 'claim', 'click', 'come', 'darl', 'free', 'friend', 'go', 'here', 'hope', 'love', 'meet', 'now', 'ok', 'onlin', 'prize', 'repli', 'select', 'thanks', 'time', 'tomorrow', 'tonight', 'txt', 'urgent', 'will', 'win']\n"
     ]
    }
   ],
   "source": [
    "# vocabulary\n",
    "print(ham_spam_vocabulary)"
   ]
  },
  {
   "cell_type": "code",
   "execution_count": 109,
   "id": "282c69d4",
   "metadata": {},
   "outputs": [
    {
     "data": {
      "text/plain": [
       "array([0, 1, 2, 0, 0, 0, 0, 0, 0, 0, 0, 0, 0, 0, 0, 0, 1, 0, 1, 0, 0, 0,\n",
       "       0, 0, 0, 0, 0])"
      ]
     },
     "execution_count": 109,
     "metadata": {},
     "output_type": "execute_result"
    }
   ],
   "source": [
    "# The vector of the message containing the counts for typical ham/spam keywords\n",
    "example_vector_custom = transform_text_to_vector(data['stemmed_tokens'].iloc[8], ham_spam_vocabulary)\n",
    "example_vector_custom"
   ]
  },
  {
   "cell_type": "code",
   "execution_count": 78,
   "id": "63bd5104",
   "metadata": {},
   "outputs": [],
   "source": [
    "# Make vectors out of all messages\n",
    "vectors = data['stemmed_tokens'].apply(transform_text_to_vector, args=(ham_spam_vocabulary,))"
   ]
  },
  {
   "cell_type": "markdown",
   "id": "610e7528",
   "metadata": {},
   "source": [
    "# Data modelling"
   ]
  },
  {
   "cell_type": "code",
   "execution_count": 29,
   "id": "24338e0f",
   "metadata": {},
   "outputs": [],
   "source": [
    "# Transform labels to numbers\n",
    "mapping = {'ham': 0,\n",
    "          \"spam\": 1}\n",
    "\n",
    "data['labels'] = data['Category'].map(mapping)"
   ]
  },
  {
   "cell_type": "code",
   "execution_count": 30,
   "id": "4987debc",
   "metadata": {},
   "outputs": [],
   "source": [
    "X = list(vectors)\n",
    "y = data['labels']"
   ]
  },
  {
   "cell_type": "code",
   "execution_count": 31,
   "id": "2f1eaded",
   "metadata": {},
   "outputs": [],
   "source": [
    "# Split the data in train, validation and test sets\n",
    "X_train, X_test, y_train, y_test = train_test_split(X, y, test_size=0.2, random_state=1)\n",
    "X_train, X_val, y_train, y_val = train_test_split(X_train, y_train, test_size=0.25, random_state=1) # 0.25 x 0.8 = 0.2"
   ]
  },
  {
   "cell_type": "code",
   "execution_count": 32,
   "id": "f66fd9a9",
   "metadata": {
    "scrolled": true
   },
   "outputs": [
    {
     "name": "stdout",
     "output_type": "stream",
     "text": [
      "3342 1115 1115\n"
     ]
    }
   ],
   "source": [
    "print(len(X_train), len(X_val), len(X_test))"
   ]
  },
  {
   "cell_type": "code",
   "execution_count": 33,
   "id": "d2b26693",
   "metadata": {},
   "outputs": [
    {
     "data": {
      "text/plain": [
       "(0    2865\n",
       " 1     477\n",
       " Name: labels, dtype: int64,\n",
       " 0    992\n",
       " 1    123\n",
       " Name: labels, dtype: int64,\n",
       " 0    968\n",
       " 1    147\n",
       " Name: labels, dtype: int64)"
      ]
     },
     "execution_count": 33,
     "metadata": {},
     "output_type": "execute_result"
    }
   ],
   "source": [
    "# make sure that the all sets contain enough spam and ham labels\n",
    "y_train.value_counts(), y_val.value_counts(), y_test.value_counts()"
   ]
  },
  {
   "cell_type": "markdown",
   "id": "9ba7377e",
   "metadata": {},
   "source": [
    "## TOTHINK: What happens if the train data does not contain any or a few spam messages? \n",
    "You could try it out by only including a few spam labels in the trainset! \n",
    "And play around with the nr of spam labels in the val set"
   ]
  },
  {
   "cell_type": "code",
   "execution_count": 34,
   "id": "8f2541f8",
   "metadata": {
    "scrolled": true
   },
   "outputs": [
    {
     "data": {
      "text/plain": [
       "LogisticRegression()"
      ]
     },
     "execution_count": 34,
     "metadata": {},
     "output_type": "execute_result"
    }
   ],
   "source": [
    "# Initialize a classifier\n",
    "clf = LogisticRegression()\n",
    "\n",
    "# Fit the model on the train data\n",
    "clf.fit(X_train, y_train)"
   ]
  },
  {
   "cell_type": "code",
   "execution_count": 35,
   "id": "bf54087c",
   "metadata": {
    "scrolled": true
   },
   "outputs": [],
   "source": [
    "# Predict the validation set!\n",
    "predictions = clf.predict(X_val)"
   ]
  },
  {
   "cell_type": "markdown",
   "id": "7bd268c8",
   "metadata": {},
   "source": [
    "## And that's it! We have trained a classifier on our spam / ham messages. Let's evaluate how good it is."
   ]
  },
  {
   "cell_type": "markdown",
   "id": "298e7f8a",
   "metadata": {},
   "source": [
    "# Evaluation \n",
    "dummy data"
   ]
  },
  {
   "cell_type": "code",
   "execution_count": 36,
   "id": "d676693e",
   "metadata": {},
   "outputs": [
    {
     "data": {
      "text/plain": [
       "0.8571428571428571"
      ]
     },
     "execution_count": 36,
     "metadata": {},
     "output_type": "execute_result"
    }
   ],
   "source": [
    "# For each predictions was it a correct one? 6/7 are correct\n",
    "y_true = np.array([0, 1, 0, 1, 0, 1, 1])\n",
    "y_pred = np.array([0, 1, 0, 1, 0, 0, 1])\n",
    "accuracy_score(y_true, y_pred)"
   ]
  },
  {
   "cell_type": "code",
   "execution_count": 37,
   "id": "34f492b3",
   "metadata": {},
   "outputs": [
    {
     "data": {
      "text/plain": [
       "1.0"
      ]
     },
     "execution_count": 37,
     "metadata": {},
     "output_type": "execute_result"
    }
   ],
   "source": [
    "# Precision: how many retrieved items are relevant?\n",
    "\n",
    "# Out of all \"positive\" predicted items? How many are truly positive?\n",
    "# The 3 positive predictions are truly positive\n",
    "y_true = np.array([0, 1, 0, 1, 0, 1, 1])\n",
    "y_pred = np.array([0, 1, 0, 1, 0, 0, 1])\n",
    "precision_score(y_true, y_pred)"
   ]
  },
  {
   "cell_type": "code",
   "execution_count": 38,
   "id": "626e18ce",
   "metadata": {},
   "outputs": [
    {
     "data": {
      "text/plain": [
       "0.75"
      ]
     },
     "execution_count": 38,
     "metadata": {},
     "output_type": "execute_result"
    }
   ],
   "source": [
    "# Recall: How many relevant items are retrieved?\n",
    "\n",
    "# Out of all items that were truly \"positive\"? How many did \"positive\"  did we predict? \n",
    "# 3 out of 4 predictions are positive\n",
    "y_true = np.array([0, 1, 0, 1, 0, 1, 1])\n",
    "y_pred = np.array([0, 1, 0, 1, 0, 0, 1])\n",
    "recall_score(y_true, y_pred)"
   ]
  },
  {
   "cell_type": "code",
   "execution_count": 39,
   "id": "30fdab28",
   "metadata": {},
   "outputs": [
    {
     "data": {
      "text/plain": [
       "0.8571428571428571"
      ]
     },
     "execution_count": 39,
     "metadata": {},
     "output_type": "execute_result"
    }
   ],
   "source": [
    "# Weighted average of precision and recall\n",
    "y_true = np.array([0, 1, 0, 1, 0, 1, 1])\n",
    "y_pred = np.array([0, 1, 0, 1, 0, 0, 1])\n",
    "f1_score(y_true, y_pred)"
   ]
  },
  {
   "cell_type": "markdown",
   "id": "d68da4e5",
   "metadata": {},
   "source": [
    "# Evaluation \n",
    "Ham / Spam data"
   ]
  },
  {
   "cell_type": "code",
   "execution_count": 40,
   "id": "5dee4cc8",
   "metadata": {},
   "outputs": [],
   "source": [
    "y_true = y_val.copy()\n",
    "y_pred = clf.predict(X_val)"
   ]
  },
  {
   "cell_type": "code",
   "execution_count": 41,
   "id": "894ffc73",
   "metadata": {},
   "outputs": [
    {
     "name": "stdout",
     "output_type": "stream",
     "text": [
      "accuracy:  0.9443946188340807\n",
      "precision:  0.8674698795180723\n",
      "recall:  0.5853658536585366\n",
      "f1 score:  0.6990291262135921\n"
     ]
    }
   ],
   "source": [
    "print('accuracy: ', accuracy_score(y_true, y_pred))\n",
    "print('precision: ', precision_score(y_true, y_pred))\n",
    "print('recall: ', recall_score(y_true, y_pred))\n",
    "print('f1 score: ', f1_score(y_true, y_pred))"
   ]
  },
  {
   "cell_type": "code",
   "execution_count": 42,
   "id": "1a5c14cf",
   "metadata": {},
   "outputs": [
    {
     "data": {
      "text/plain": [
       "array([[981,  11],\n",
       "       [ 51,  72]])"
      ]
     },
     "execution_count": 42,
     "metadata": {},
     "output_type": "execute_result"
    }
   ],
   "source": [
    "confusion_matrix(y_true, y_pred)"
   ]
  },
  {
   "cell_type": "markdown",
   "id": "19948693",
   "metadata": {},
   "source": [
    "## These results are not bad at all for a first iteration! "
   ]
  },
  {
   "cell_type": "markdown",
   "id": "ece7d54b",
   "metadata": {},
   "source": [
    "# Error analysis"
   ]
  },
  {
   "cell_type": "code",
   "execution_count": 152,
   "id": "66517f6f",
   "metadata": {},
   "outputs": [],
   "source": [
    "# Make a new dataframe with categories, true labels and predicted labels\n",
    "predictions_df = pd.DataFrame(data['Category'].loc[y_true.index])\n",
    "predictions_df['y_true'] = y_true\n",
    "predictions_df['y_pred'] = y_pred\n",
    "predictions_df['message'] = data.loc[y_true.index, 'Message']"
   ]
  },
  {
   "cell_type": "code",
   "execution_count": 153,
   "id": "b1da17d6",
   "metadata": {},
   "outputs": [
    {
     "data": {
      "text/html": [
       "<div>\n",
       "<style scoped>\n",
       "    .dataframe tbody tr th:only-of-type {\n",
       "        vertical-align: middle;\n",
       "    }\n",
       "\n",
       "    .dataframe tbody tr th {\n",
       "        vertical-align: top;\n",
       "    }\n",
       "\n",
       "    .dataframe thead th {\n",
       "        text-align: right;\n",
       "    }\n",
       "</style>\n",
       "<table border=\"1\" class=\"dataframe\">\n",
       "  <thead>\n",
       "    <tr style=\"text-align: right;\">\n",
       "      <th></th>\n",
       "      <th>Category</th>\n",
       "      <th>y_true</th>\n",
       "      <th>y_pred</th>\n",
       "      <th>message</th>\n",
       "    </tr>\n",
       "  </thead>\n",
       "  <tbody>\n",
       "    <tr>\n",
       "      <th>3738</th>\n",
       "      <td>ham</td>\n",
       "      <td>0</td>\n",
       "      <td>1</td>\n",
       "      <td>plz note: if anyone calling from a mobile co. ...</td>\n",
       "    </tr>\n",
       "    <tr>\n",
       "      <th>5041</th>\n",
       "      <td>spam</td>\n",
       "      <td>1</td>\n",
       "      <td>0</td>\n",
       "      <td>natalie (20/f) is inviting you to be her frien...</td>\n",
       "    </tr>\n",
       "    <tr>\n",
       "      <th>3768</th>\n",
       "      <td>ham</td>\n",
       "      <td>0</td>\n",
       "      <td>1</td>\n",
       "      <td>sir goodmorning, once free call me.</td>\n",
       "    </tr>\n",
       "    <tr>\n",
       "      <th>3568</th>\n",
       "      <td>spam</td>\n",
       "      <td>1</td>\n",
       "      <td>0</td>\n",
       "      <td>collect your valentine's weekend to paris inc ...</td>\n",
       "    </tr>\n",
       "    <tr>\n",
       "      <th>3720</th>\n",
       "      <td>spam</td>\n",
       "      <td>1</td>\n",
       "      <td>0</td>\n",
       "      <td>thanks for your ringtone order, reference numb...</td>\n",
       "    </tr>\n",
       "    <tr>\n",
       "      <th>...</th>\n",
       "      <td>...</td>\n",
       "      <td>...</td>\n",
       "      <td>...</td>\n",
       "      <td>...</td>\n",
       "    </tr>\n",
       "    <tr>\n",
       "      <th>3303</th>\n",
       "      <td>ham</td>\n",
       "      <td>0</td>\n",
       "      <td>1</td>\n",
       "      <td>stop calling everyone saying i might have canc...</td>\n",
       "    </tr>\n",
       "    <tr>\n",
       "      <th>3222</th>\n",
       "      <td>spam</td>\n",
       "      <td>1</td>\n",
       "      <td>0</td>\n",
       "      <td>thanks for your ringtone order, reference numb...</td>\n",
       "    </tr>\n",
       "    <tr>\n",
       "      <th>5365</th>\n",
       "      <td>spam</td>\n",
       "      <td>1</td>\n",
       "      <td>0</td>\n",
       "      <td>camera - you are awarded a sipix digital camer...</td>\n",
       "    </tr>\n",
       "    <tr>\n",
       "      <th>474</th>\n",
       "      <td>spam</td>\n",
       "      <td>1</td>\n",
       "      <td>0</td>\n",
       "      <td>want 2 get laid tonight? want real dogging loc...</td>\n",
       "    </tr>\n",
       "    <tr>\n",
       "      <th>731</th>\n",
       "      <td>spam</td>\n",
       "      <td>1</td>\n",
       "      <td>0</td>\n",
       "      <td>email alertfrom: jeri stewartsize: 2kbsubject:...</td>\n",
       "    </tr>\n",
       "  </tbody>\n",
       "</table>\n",
       "<p>62 rows × 4 columns</p>\n",
       "</div>"
      ],
      "text/plain": [
       "     Category  y_true  y_pred  \\\n",
       "3738      ham       0       1   \n",
       "5041     spam       1       0   \n",
       "3768      ham       0       1   \n",
       "3568     spam       1       0   \n",
       "3720     spam       1       0   \n",
       "...       ...     ...     ...   \n",
       "3303      ham       0       1   \n",
       "3222     spam       1       0   \n",
       "5365     spam       1       0   \n",
       "474      spam       1       0   \n",
       "731      spam       1       0   \n",
       "\n",
       "                                                message  \n",
       "3738  plz note: if anyone calling from a mobile co. ...  \n",
       "5041  natalie (20/f) is inviting you to be her frien...  \n",
       "3768                sir goodmorning, once free call me.  \n",
       "3568  collect your valentine's weekend to paris inc ...  \n",
       "3720  thanks for your ringtone order, reference numb...  \n",
       "...                                                 ...  \n",
       "3303  stop calling everyone saying i might have canc...  \n",
       "3222  thanks for your ringtone order, reference numb...  \n",
       "5365  camera - you are awarded a sipix digital camer...  \n",
       "474   want 2 get laid tonight? want real dogging loc...  \n",
       "731   email alertfrom: jeri stewartsize: 2kbsubject:...  \n",
       "\n",
       "[62 rows x 4 columns]"
      ]
     },
     "execution_count": 153,
     "metadata": {},
     "output_type": "execute_result"
    }
   ],
   "source": [
    "# Explore the incorrect predictions\n",
    "predictions_df[predictions_df['y_true'] != predictions_df['y_pred']]"
   ]
  },
  {
   "cell_type": "markdown",
   "id": "ef7b5ff4",
   "metadata": {},
   "source": [
    "## I think we can push the scores way higher! \n",
    "You can play around and do many many iterations with the validation set\n",
    "\n",
    "### If you're satisfied with the results, you can use the model with \"unseen\" messages -> the test set!"
   ]
  },
  {
   "cell_type": "markdown",
   "id": "38e823d5",
   "metadata": {},
   "source": [
    "# THE SHORT WAY\n",
    "with Bag of Word model -> CountVectorizer"
   ]
  },
  {
   "cell_type": "code",
   "execution_count": 120,
   "id": "f513b478",
   "metadata": {},
   "outputs": [
    {
     "name": "stdout",
     "output_type": "stream",
     "text": [
      "accuracy:  0.9829596412556054\n",
      "precision:  0.9923076923076923\n",
      "recall:  0.8775510204081632\n",
      "f1 score:  0.9314079422382673\n"
     ]
    }
   ],
   "source": [
    "# Load data\n",
    "data = pd.read_csv('spam.csv')\n",
    "\n",
    "# Initialize the Bag of Words model\n",
    "# This model does lowercasing, tokenization, stemming and optionally removal of stopwords! \n",
    "cv = CountVectorizer(stop_words='english')\n",
    "\n",
    "# vectorize the sentences\n",
    "X = cv.fit_transform(data['Message']).toarray()\n",
    "# convert labels to numbers\n",
    "y = data['Category'].map(mapping)\n",
    "\n",
    "# Split data\n",
    "X_train, X_test, y_train, y_test = train_test_split(X, y, test_size=0.2, random_state=1)\n",
    "\n",
    "# Initialize a classifier\n",
    "clf = LogisticRegression()\n",
    "\n",
    "# Fit the model on the train data\n",
    "clf.fit(X_train, y_train)\n",
    "\n",
    "# Predict\n",
    "y_pred = clf.predict(X_test)\n",
    "\n",
    "# Evaluate!\n",
    "print('accuracy: ', accuracy_score(y_test, y_pred))\n",
    "print('precision: ', precision_score(y_test, y_pred))\n",
    "print('recall: ', recall_score(y_test, y_pred))\n",
    "print('f1 score: ', f1_score(y_test, y_pred))"
   ]
  },
  {
   "cell_type": "code",
   "execution_count": 112,
   "id": "ff0795da",
   "metadata": {},
   "outputs": [
    {
     "name": "stdout",
     "output_type": "stream",
     "text": [
      "winner!! as a valued network customer you have been selected to receivea £900 prize reward! to claim call 09061701461. claim code kl341. valid 12 hours only.\n",
      "[0 1 2 0 0 0 0 0 0 0 0 0 0 0 0 0 1 0 1 0 0 0 0 0 0 0 0]\n"
     ]
    }
   ],
   "source": [
    "# Remember the example message and the custom made vector?\n",
    "print(example_message)\n",
    "print(example_vector_custom)"
   ]
  },
  {
   "cell_type": "code",
   "execution_count": 121,
   "id": "eb6e0248",
   "metadata": {},
   "outputs": [
    {
     "name": "stdout",
     "output_type": "stream",
     "text": [
      "(8440,)\n"
     ]
    },
    {
     "data": {
      "text/plain": [
       "array([0, 0, 0, ..., 0, 0, 0])"
      ]
     },
     "execution_count": 121,
     "metadata": {},
     "output_type": "execute_result"
    }
   ],
   "source": [
    "# this is how it looks like with a Bag of Words vectorizer: with a vocabulary of 8440 words!\n",
    "example_vector_bow = X[8]\n",
    "print(example_vector_bow.shape)\n",
    "example_vector_bow"
   ]
  },
  {
   "cell_type": "markdown",
   "id": "e6808782",
   "metadata": {},
   "source": [
    "### Amazing! 93% F1 Score!\n",
    "Without any modifications, just an \"off the shelf\" vectorizer + model, with default parameters."
   ]
  },
  {
   "cell_type": "code",
   "execution_count": 155,
   "id": "ed07a237",
   "metadata": {},
   "outputs": [
    {
     "data": {
      "text/plain": [
       "array([[967,   1],\n",
       "       [ 18, 129]])"
      ]
     },
     "execution_count": 155,
     "metadata": {},
     "output_type": "execute_result"
    }
   ],
   "source": [
    "confusion_matrix(y_test, y_pred)"
   ]
  },
  {
   "cell_type": "code",
   "execution_count": 157,
   "id": "b22522d6",
   "metadata": {},
   "outputs": [],
   "source": [
    "predictions_df = pd.DataFrame(data['Category'].loc[y_test.index])\n",
    "predictions_df['y_true'] = y_test\n",
    "predictions_df['y_pred'] = y_pred\n",
    "predictions_df['message'] = data.loc[y_test.index, 'Message']"
   ]
  },
  {
   "cell_type": "code",
   "execution_count": 158,
   "id": "f482dbd4",
   "metadata": {},
   "outputs": [
    {
     "data": {
      "text/html": [
       "<div>\n",
       "<style scoped>\n",
       "    .dataframe tbody tr th:only-of-type {\n",
       "        vertical-align: middle;\n",
       "    }\n",
       "\n",
       "    .dataframe tbody tr th {\n",
       "        vertical-align: top;\n",
       "    }\n",
       "\n",
       "    .dataframe thead th {\n",
       "        text-align: right;\n",
       "    }\n",
       "</style>\n",
       "<table border=\"1\" class=\"dataframe\">\n",
       "  <thead>\n",
       "    <tr style=\"text-align: right;\">\n",
       "      <th></th>\n",
       "      <th>Category</th>\n",
       "      <th>y_true</th>\n",
       "      <th>y_pred</th>\n",
       "      <th>message</th>\n",
       "    </tr>\n",
       "  </thead>\n",
       "  <tbody>\n",
       "    <tr>\n",
       "      <th>1777</th>\n",
       "      <td>spam</td>\n",
       "      <td>1</td>\n",
       "      <td>0</td>\n",
       "      <td>Call FREEPHONE 0800 542 0578 now!</td>\n",
       "    </tr>\n",
       "    <tr>\n",
       "      <th>1217</th>\n",
       "      <td>spam</td>\n",
       "      <td>1</td>\n",
       "      <td>0</td>\n",
       "      <td>You have 1 new voicemail. Please call 08719181...</td>\n",
       "    </tr>\n",
       "    <tr>\n",
       "      <th>763</th>\n",
       "      <td>spam</td>\n",
       "      <td>1</td>\n",
       "      <td>0</td>\n",
       "      <td>Urgent Ur £500 guaranteed award is still uncla...</td>\n",
       "    </tr>\n",
       "    <tr>\n",
       "      <th>3780</th>\n",
       "      <td>spam</td>\n",
       "      <td>1</td>\n",
       "      <td>0</td>\n",
       "      <td>Claim a 200 shopping spree, just call 08717895...</td>\n",
       "    </tr>\n",
       "    <tr>\n",
       "      <th>3132</th>\n",
       "      <td>spam</td>\n",
       "      <td>1</td>\n",
       "      <td>0</td>\n",
       "      <td>LookAtMe!: Thanks for your purchase of a video...</td>\n",
       "    </tr>\n",
       "    <tr>\n",
       "      <th>2295</th>\n",
       "      <td>spam</td>\n",
       "      <td>1</td>\n",
       "      <td>0</td>\n",
       "      <td>You have 1 new message. Please call 08718738034.</td>\n",
       "    </tr>\n",
       "    <tr>\n",
       "      <th>5110</th>\n",
       "      <td>spam</td>\n",
       "      <td>1</td>\n",
       "      <td>0</td>\n",
       "      <td>You have 1 new message. Please call 08715205273</td>\n",
       "    </tr>\n",
       "    <tr>\n",
       "      <th>1045</th>\n",
       "      <td>spam</td>\n",
       "      <td>1</td>\n",
       "      <td>0</td>\n",
       "      <td>We know someone who you know that fancies you....</td>\n",
       "    </tr>\n",
       "    <tr>\n",
       "      <th>5</th>\n",
       "      <td>spam</td>\n",
       "      <td>1</td>\n",
       "      <td>0</td>\n",
       "      <td>FreeMsg Hey there darling it's been 3 week's n...</td>\n",
       "    </tr>\n",
       "    <tr>\n",
       "      <th>4073</th>\n",
       "      <td>spam</td>\n",
       "      <td>1</td>\n",
       "      <td>0</td>\n",
       "      <td>Loans for any purpose even if you have Bad Cre...</td>\n",
       "    </tr>\n",
       "    <tr>\n",
       "      <th>1875</th>\n",
       "      <td>spam</td>\n",
       "      <td>1</td>\n",
       "      <td>0</td>\n",
       "      <td>Would you like to see my XXX pics they are so ...</td>\n",
       "    </tr>\n",
       "    <tr>\n",
       "      <th>717</th>\n",
       "      <td>spam</td>\n",
       "      <td>1</td>\n",
       "      <td>0</td>\n",
       "      <td>#ERROR!</td>\n",
       "    </tr>\n",
       "    <tr>\n",
       "      <th>1893</th>\n",
       "      <td>spam</td>\n",
       "      <td>1</td>\n",
       "      <td>0</td>\n",
       "      <td>CALL 09090900040 &amp; LISTEN TO EXTREME DIRTY LIV...</td>\n",
       "    </tr>\n",
       "    <tr>\n",
       "      <th>4394</th>\n",
       "      <td>spam</td>\n",
       "      <td>1</td>\n",
       "      <td>0</td>\n",
       "      <td>RECPT 1/3. You have ordered a Ringtone. Your o...</td>\n",
       "    </tr>\n",
       "    <tr>\n",
       "      <th>4949</th>\n",
       "      <td>spam</td>\n",
       "      <td>1</td>\n",
       "      <td>0</td>\n",
       "      <td>Hi this is Amy, we will be sending you a free ...</td>\n",
       "    </tr>\n",
       "    <tr>\n",
       "      <th>761</th>\n",
       "      <td>spam</td>\n",
       "      <td>1</td>\n",
       "      <td>0</td>\n",
       "      <td>Romantic Paris. 2 nights, 2 flights from £79 B...</td>\n",
       "    </tr>\n",
       "    <tr>\n",
       "      <th>3991</th>\n",
       "      <td>spam</td>\n",
       "      <td>1</td>\n",
       "      <td>0</td>\n",
       "      <td>(Bank of Granite issues Strong-Buy) EXPLOSIVE ...</td>\n",
       "    </tr>\n",
       "    <tr>\n",
       "      <th>1497</th>\n",
       "      <td>ham</td>\n",
       "      <td>0</td>\n",
       "      <td>1</td>\n",
       "      <td>I'm always on yahoo messenger now. Just send t...</td>\n",
       "    </tr>\n",
       "    <tr>\n",
       "      <th>2941</th>\n",
       "      <td>spam</td>\n",
       "      <td>1</td>\n",
       "      <td>0</td>\n",
       "      <td>You have 1 new message. Please call 08712400200.</td>\n",
       "    </tr>\n",
       "  </tbody>\n",
       "</table>\n",
       "</div>"
      ],
      "text/plain": [
       "     Category  y_true  y_pred  \\\n",
       "1777     spam       1       0   \n",
       "1217     spam       1       0   \n",
       "763      spam       1       0   \n",
       "3780     spam       1       0   \n",
       "3132     spam       1       0   \n",
       "2295     spam       1       0   \n",
       "5110     spam       1       0   \n",
       "1045     spam       1       0   \n",
       "5        spam       1       0   \n",
       "4073     spam       1       0   \n",
       "1875     spam       1       0   \n",
       "717      spam       1       0   \n",
       "1893     spam       1       0   \n",
       "4394     spam       1       0   \n",
       "4949     spam       1       0   \n",
       "761      spam       1       0   \n",
       "3991     spam       1       0   \n",
       "1497      ham       0       1   \n",
       "2941     spam       1       0   \n",
       "\n",
       "                                                message  \n",
       "1777                  Call FREEPHONE 0800 542 0578 now!  \n",
       "1217  You have 1 new voicemail. Please call 08719181...  \n",
       "763   Urgent Ur £500 guaranteed award is still uncla...  \n",
       "3780  Claim a 200 shopping spree, just call 08717895...  \n",
       "3132  LookAtMe!: Thanks for your purchase of a video...  \n",
       "2295   You have 1 new message. Please call 08718738034.  \n",
       "5110    You have 1 new message. Please call 08715205273  \n",
       "1045  We know someone who you know that fancies you....  \n",
       "5     FreeMsg Hey there darling it's been 3 week's n...  \n",
       "4073  Loans for any purpose even if you have Bad Cre...  \n",
       "1875  Would you like to see my XXX pics they are so ...  \n",
       "717                                             #ERROR!  \n",
       "1893  CALL 09090900040 & LISTEN TO EXTREME DIRTY LIV...  \n",
       "4394  RECPT 1/3. You have ordered a Ringtone. Your o...  \n",
       "4949  Hi this is Amy, we will be sending you a free ...  \n",
       "761   Romantic Paris. 2 nights, 2 flights from £79 B...  \n",
       "3991  (Bank of Granite issues Strong-Buy) EXPLOSIVE ...  \n",
       "1497  I'm always on yahoo messenger now. Just send t...  \n",
       "2941   You have 1 new message. Please call 08712400200.  "
      ]
     },
     "execution_count": 158,
     "metadata": {},
     "output_type": "execute_result"
    }
   ],
   "source": [
    "predictions_df[predictions_df['y_true'] != predictions_df['y_pred']]"
   ]
  },
  {
   "cell_type": "markdown",
   "id": "8f3b8c68",
   "metadata": {},
   "source": [
    "# THE SHORT WAY 2.0\n",
    "with TF-IDF model -> TfidfVectorizer"
   ]
  },
  {
   "cell_type": "code",
   "execution_count": 122,
   "id": "5804a26d",
   "metadata": {},
   "outputs": [
    {
     "name": "stdout",
     "output_type": "stream",
     "text": [
      "accuracy:  0.9614349775784753\n",
      "precision:  0.9905660377358491\n",
      "recall:  0.7142857142857143\n",
      "f1 score:  0.8300395256916997\n"
     ]
    }
   ],
   "source": [
    "# Load data\n",
    "data = pd.read_csv('spam.csv')\n",
    "\n",
    "# Initialize the TF-IDF model\n",
    "# This model does lowercasing, tokenization, stemming and optionally removal of stopwords! \n",
    "cv = TfidfVectorizer(stop_words='english')\n",
    "\n",
    "# vectorize the sentences\n",
    "X = cv.fit_transform(data['Message']).toarray()\n",
    "# convert labels to numbers\n",
    "y = data['Category'].map(mapping)\n",
    "\n",
    "# Split data\n",
    "X_train, X_test, y_train, y_test = train_test_split(X, y, test_size=0.2, random_state=1)\n",
    "\n",
    "# Initialize a classifier\n",
    "clf = LogisticRegression()\n",
    "\n",
    "# Fit the model on the train data\n",
    "clf.fit(X_train, y_train)\n",
    "\n",
    "# Predict\n",
    "y_pred = clf.predict(X_test)\n",
    "\n",
    "# Evaluate!\n",
    "print('accuracy: ', accuracy_score(y_test, y_pred))\n",
    "print('precision: ', precision_score(y_test, y_pred))\n",
    "print('recall: ', recall_score(y_test, y_pred))\n",
    "print('f1 score: ', f1_score(y_test, y_pred))"
   ]
  },
  {
   "cell_type": "code",
   "execution_count": 123,
   "id": "ed7cefc0",
   "metadata": {},
   "outputs": [
    {
     "name": "stdout",
     "output_type": "stream",
     "text": [
      "(8440,)\n"
     ]
    },
    {
     "data": {
      "text/plain": [
       "array([0., 0., 0., ..., 0., 0., 0.])"
      ]
     },
     "execution_count": 123,
     "metadata": {},
     "output_type": "execute_result"
    }
   ],
   "source": [
    "# And this is how it looks like with a TF-IDF vectorizer\n",
    "example_vector_tfidf = X[8]\n",
    "print(example_vector_tfidf.shape)\n",
    "example_vector_tfidf"
   ]
  },
  {
   "cell_type": "code",
   "execution_count": 45,
   "id": "4148a4cd",
   "metadata": {},
   "outputs": [
    {
     "data": {
      "text/plain": [
       "array([[967,   1],\n",
       "       [ 42, 105]])"
      ]
     },
     "execution_count": 45,
     "metadata": {},
     "output_type": "execute_result"
    }
   ],
   "source": [
    "confusion_matrix(y_test, y_pred)"
   ]
  },
  {
   "cell_type": "code",
   "execution_count": 46,
   "id": "69b94d05",
   "metadata": {},
   "outputs": [],
   "source": [
    "predictions_df = pd.DataFrame(data['Category'].loc[y_test.index])\n",
    "predictions_df['y_true'] = y_test\n",
    "predictions_df['y_pred'] = y_pred\n",
    "predictions_df['message'] = data.loc[y_test.index, 'Message']"
   ]
  },
  {
   "cell_type": "code",
   "execution_count": 47,
   "id": "6322a2d4",
   "metadata": {},
   "outputs": [
    {
     "data": {
      "text/html": [
       "<div>\n",
       "<style scoped>\n",
       "    .dataframe tbody tr th:only-of-type {\n",
       "        vertical-align: middle;\n",
       "    }\n",
       "\n",
       "    .dataframe tbody tr th {\n",
       "        vertical-align: top;\n",
       "    }\n",
       "\n",
       "    .dataframe thead th {\n",
       "        text-align: right;\n",
       "    }\n",
       "</style>\n",
       "<table border=\"1\" class=\"dataframe\">\n",
       "  <thead>\n",
       "    <tr style=\"text-align: right;\">\n",
       "      <th></th>\n",
       "      <th>Category</th>\n",
       "      <th>y_true</th>\n",
       "      <th>y_pred</th>\n",
       "      <th>message</th>\n",
       "    </tr>\n",
       "  </thead>\n",
       "  <tbody>\n",
       "    <tr>\n",
       "      <th>1745</th>\n",
       "      <td>spam</td>\n",
       "      <td>1</td>\n",
       "      <td>0</td>\n",
       "      <td>Someone has conacted our dating service and en...</td>\n",
       "    </tr>\n",
       "    <tr>\n",
       "      <th>1777</th>\n",
       "      <td>spam</td>\n",
       "      <td>1</td>\n",
       "      <td>0</td>\n",
       "      <td>Call FREEPHONE 0800 542 0578 now!</td>\n",
       "    </tr>\n",
       "    <tr>\n",
       "      <th>2680</th>\n",
       "      <td>spam</td>\n",
       "      <td>1</td>\n",
       "      <td>0</td>\n",
       "      <td>New Tones This week include: 1)McFly-All Ab..,...</td>\n",
       "    </tr>\n",
       "    <tr>\n",
       "      <th>1217</th>\n",
       "      <td>spam</td>\n",
       "      <td>1</td>\n",
       "      <td>0</td>\n",
       "      <td>You have 1 new voicemail. Please call 08719181...</td>\n",
       "    </tr>\n",
       "    <tr>\n",
       "      <th>763</th>\n",
       "      <td>spam</td>\n",
       "      <td>1</td>\n",
       "      <td>0</td>\n",
       "      <td>Urgent Ur £500 guaranteed award is still uncla...</td>\n",
       "    </tr>\n",
       "    <tr>\n",
       "      <th>3780</th>\n",
       "      <td>spam</td>\n",
       "      <td>1</td>\n",
       "      <td>0</td>\n",
       "      <td>Claim a 200 shopping spree, just call 08717895...</td>\n",
       "    </tr>\n",
       "    <tr>\n",
       "      <th>4574</th>\n",
       "      <td>spam</td>\n",
       "      <td>1</td>\n",
       "      <td>0</td>\n",
       "      <td>URGENT! This is the 2nd attempt to contact U!U...</td>\n",
       "    </tr>\n",
       "    <tr>\n",
       "      <th>881</th>\n",
       "      <td>spam</td>\n",
       "      <td>1</td>\n",
       "      <td>0</td>\n",
       "      <td>Reminder: You have not downloaded the content ...</td>\n",
       "    </tr>\n",
       "    <tr>\n",
       "      <th>3132</th>\n",
       "      <td>spam</td>\n",
       "      <td>1</td>\n",
       "      <td>0</td>\n",
       "      <td>LookAtMe!: Thanks for your purchase of a video...</td>\n",
       "    </tr>\n",
       "    <tr>\n",
       "      <th>4419</th>\n",
       "      <td>ham</td>\n",
       "      <td>0</td>\n",
       "      <td>1</td>\n",
       "      <td>When you get free, call me</td>\n",
       "    </tr>\n",
       "    <tr>\n",
       "      <th>2295</th>\n",
       "      <td>spam</td>\n",
       "      <td>1</td>\n",
       "      <td>0</td>\n",
       "      <td>You have 1 new message. Please call 08718738034.</td>\n",
       "    </tr>\n",
       "    <tr>\n",
       "      <th>420</th>\n",
       "      <td>spam</td>\n",
       "      <td>1</td>\n",
       "      <td>0</td>\n",
       "      <td>Send a logo 2 ur lover - 2 names joined by a h...</td>\n",
       "    </tr>\n",
       "    <tr>\n",
       "      <th>1060</th>\n",
       "      <td>spam</td>\n",
       "      <td>1</td>\n",
       "      <td>0</td>\n",
       "      <td>EASTENDERS TV Quiz. What FLOWER does DOT compa...</td>\n",
       "    </tr>\n",
       "    <tr>\n",
       "      <th>5110</th>\n",
       "      <td>spam</td>\n",
       "      <td>1</td>\n",
       "      <td>0</td>\n",
       "      <td>You have 1 new message. Please call 08715205273</td>\n",
       "    </tr>\n",
       "    <tr>\n",
       "      <th>1045</th>\n",
       "      <td>spam</td>\n",
       "      <td>1</td>\n",
       "      <td>0</td>\n",
       "      <td>We know someone who you know that fancies you....</td>\n",
       "    </tr>\n",
       "    <tr>\n",
       "      <th>3905</th>\n",
       "      <td>spam</td>\n",
       "      <td>1</td>\n",
       "      <td>0</td>\n",
       "      <td>Your 2004 account for 07XXXXXXXXX shows 786 un...</td>\n",
       "    </tr>\n",
       "    <tr>\n",
       "      <th>4965</th>\n",
       "      <td>spam</td>\n",
       "      <td>1</td>\n",
       "      <td>0</td>\n",
       "      <td>Dear Voucher holder Have your next meal on us....</td>\n",
       "    </tr>\n",
       "    <tr>\n",
       "      <th>3443</th>\n",
       "      <td>spam</td>\n",
       "      <td>1</td>\n",
       "      <td>0</td>\n",
       "      <td>Save money on wedding lingerie at www.bridal.p...</td>\n",
       "    </tr>\n",
       "    <tr>\n",
       "      <th>5</th>\n",
       "      <td>spam</td>\n",
       "      <td>1</td>\n",
       "      <td>0</td>\n",
       "      <td>FreeMsg Hey there darling it's been 3 week's n...</td>\n",
       "    </tr>\n",
       "    <tr>\n",
       "      <th>3530</th>\n",
       "      <td>spam</td>\n",
       "      <td>1</td>\n",
       "      <td>0</td>\n",
       "      <td>Xmas &amp; New Years Eve tickets are now on sale f...</td>\n",
       "    </tr>\n",
       "    <tr>\n",
       "      <th>517</th>\n",
       "      <td>spam</td>\n",
       "      <td>1</td>\n",
       "      <td>0</td>\n",
       "      <td>Boltblue tones for 150p Reply POLY# or MONO# e...</td>\n",
       "    </tr>\n",
       "    <tr>\n",
       "      <th>684</th>\n",
       "      <td>spam</td>\n",
       "      <td>1</td>\n",
       "      <td>0</td>\n",
       "      <td>Hi I'm sue. I am 20 years old and work as a la...</td>\n",
       "    </tr>\n",
       "    <tr>\n",
       "      <th>3792</th>\n",
       "      <td>spam</td>\n",
       "      <td>1</td>\n",
       "      <td>0</td>\n",
       "      <td>Twinks, bears, scallies, skins and jocks are c...</td>\n",
       "    </tr>\n",
       "    <tr>\n",
       "      <th>4073</th>\n",
       "      <td>spam</td>\n",
       "      <td>1</td>\n",
       "      <td>0</td>\n",
       "      <td>Loans for any purpose even if you have Bad Cre...</td>\n",
       "    </tr>\n",
       "    <tr>\n",
       "      <th>1875</th>\n",
       "      <td>spam</td>\n",
       "      <td>1</td>\n",
       "      <td>0</td>\n",
       "      <td>Would you like to see my XXX pics they are so ...</td>\n",
       "    </tr>\n",
       "    <tr>\n",
       "      <th>2313</th>\n",
       "      <td>spam</td>\n",
       "      <td>1</td>\n",
       "      <td>0</td>\n",
       "      <td>tddnewsletter@emc1.co.uk (More games from TheD...</td>\n",
       "    </tr>\n",
       "    <tr>\n",
       "      <th>1328</th>\n",
       "      <td>spam</td>\n",
       "      <td>1</td>\n",
       "      <td>0</td>\n",
       "      <td>Ur balance is now £500. Ur next question is: W...</td>\n",
       "    </tr>\n",
       "    <tr>\n",
       "      <th>4768</th>\n",
       "      <td>spam</td>\n",
       "      <td>1</td>\n",
       "      <td>0</td>\n",
       "      <td>Your unique user ID is 1172. For removal send ...</td>\n",
       "    </tr>\n",
       "    <tr>\n",
       "      <th>5368</th>\n",
       "      <td>spam</td>\n",
       "      <td>1</td>\n",
       "      <td>0</td>\n",
       "      <td>IMPORTANT MESSAGE. This is a final contact att...</td>\n",
       "    </tr>\n",
       "    <tr>\n",
       "      <th>3755</th>\n",
       "      <td>spam</td>\n",
       "      <td>1</td>\n",
       "      <td>0</td>\n",
       "      <td>Bloomberg -Message center +447797706009 Why wa...</td>\n",
       "    </tr>\n",
       "    <tr>\n",
       "      <th>717</th>\n",
       "      <td>spam</td>\n",
       "      <td>1</td>\n",
       "      <td>0</td>\n",
       "      <td>#ERROR!</td>\n",
       "    </tr>\n",
       "    <tr>\n",
       "      <th>5068</th>\n",
       "      <td>spam</td>\n",
       "      <td>1</td>\n",
       "      <td>0</td>\n",
       "      <td>83039 62735=£450 UK Break AccommodationVoucher...</td>\n",
       "    </tr>\n",
       "    <tr>\n",
       "      <th>1893</th>\n",
       "      <td>spam</td>\n",
       "      <td>1</td>\n",
       "      <td>0</td>\n",
       "      <td>CALL 09090900040 &amp; LISTEN TO EXTREME DIRTY LIV...</td>\n",
       "    </tr>\n",
       "    <tr>\n",
       "      <th>4298</th>\n",
       "      <td>spam</td>\n",
       "      <td>1</td>\n",
       "      <td>0</td>\n",
       "      <td>thesmszone.com lets you send free anonymous an...</td>\n",
       "    </tr>\n",
       "    <tr>\n",
       "      <th>1734</th>\n",
       "      <td>spam</td>\n",
       "      <td>1</td>\n",
       "      <td>0</td>\n",
       "      <td>Hi, this is Mandy Sullivan calling from HOTMIX...</td>\n",
       "    </tr>\n",
       "    <tr>\n",
       "      <th>4394</th>\n",
       "      <td>spam</td>\n",
       "      <td>1</td>\n",
       "      <td>0</td>\n",
       "      <td>RECPT 1/3. You have ordered a Ringtone. Your o...</td>\n",
       "    </tr>\n",
       "    <tr>\n",
       "      <th>4949</th>\n",
       "      <td>spam</td>\n",
       "      <td>1</td>\n",
       "      <td>0</td>\n",
       "      <td>Hi this is Amy, we will be sending you a free ...</td>\n",
       "    </tr>\n",
       "    <tr>\n",
       "      <th>1172</th>\n",
       "      <td>spam</td>\n",
       "      <td>1</td>\n",
       "      <td>0</td>\n",
       "      <td>Got what it takes 2 take part in the WRC Rally...</td>\n",
       "    </tr>\n",
       "    <tr>\n",
       "      <th>761</th>\n",
       "      <td>spam</td>\n",
       "      <td>1</td>\n",
       "      <td>0</td>\n",
       "      <td>Romantic Paris. 2 nights, 2 flights from £79 B...</td>\n",
       "    </tr>\n",
       "    <tr>\n",
       "      <th>3991</th>\n",
       "      <td>spam</td>\n",
       "      <td>1</td>\n",
       "      <td>0</td>\n",
       "      <td>(Bank of Granite issues Strong-Buy) EXPLOSIVE ...</td>\n",
       "    </tr>\n",
       "    <tr>\n",
       "      <th>2941</th>\n",
       "      <td>spam</td>\n",
       "      <td>1</td>\n",
       "      <td>0</td>\n",
       "      <td>You have 1 new message. Please call 08712400200.</td>\n",
       "    </tr>\n",
       "    <tr>\n",
       "      <th>4673</th>\n",
       "      <td>spam</td>\n",
       "      <td>1</td>\n",
       "      <td>0</td>\n",
       "      <td>Customer service announcement. We recently tri...</td>\n",
       "    </tr>\n",
       "    <tr>\n",
       "      <th>19</th>\n",
       "      <td>spam</td>\n",
       "      <td>1</td>\n",
       "      <td>0</td>\n",
       "      <td>England v Macedonia - dont miss the goals/team...</td>\n",
       "    </tr>\n",
       "  </tbody>\n",
       "</table>\n",
       "</div>"
      ],
      "text/plain": [
       "     Category  y_true  y_pred  \\\n",
       "1745     spam       1       0   \n",
       "1777     spam       1       0   \n",
       "2680     spam       1       0   \n",
       "1217     spam       1       0   \n",
       "763      spam       1       0   \n",
       "3780     spam       1       0   \n",
       "4574     spam       1       0   \n",
       "881      spam       1       0   \n",
       "3132     spam       1       0   \n",
       "4419      ham       0       1   \n",
       "2295     spam       1       0   \n",
       "420      spam       1       0   \n",
       "1060     spam       1       0   \n",
       "5110     spam       1       0   \n",
       "1045     spam       1       0   \n",
       "3905     spam       1       0   \n",
       "4965     spam       1       0   \n",
       "3443     spam       1       0   \n",
       "5        spam       1       0   \n",
       "3530     spam       1       0   \n",
       "517      spam       1       0   \n",
       "684      spam       1       0   \n",
       "3792     spam       1       0   \n",
       "4073     spam       1       0   \n",
       "1875     spam       1       0   \n",
       "2313     spam       1       0   \n",
       "1328     spam       1       0   \n",
       "4768     spam       1       0   \n",
       "5368     spam       1       0   \n",
       "3755     spam       1       0   \n",
       "717      spam       1       0   \n",
       "5068     spam       1       0   \n",
       "1893     spam       1       0   \n",
       "4298     spam       1       0   \n",
       "1734     spam       1       0   \n",
       "4394     spam       1       0   \n",
       "4949     spam       1       0   \n",
       "1172     spam       1       0   \n",
       "761      spam       1       0   \n",
       "3991     spam       1       0   \n",
       "2941     spam       1       0   \n",
       "4673     spam       1       0   \n",
       "19       spam       1       0   \n",
       "\n",
       "                                                message  \n",
       "1745  Someone has conacted our dating service and en...  \n",
       "1777                  Call FREEPHONE 0800 542 0578 now!  \n",
       "2680  New Tones This week include: 1)McFly-All Ab..,...  \n",
       "1217  You have 1 new voicemail. Please call 08719181...  \n",
       "763   Urgent Ur £500 guaranteed award is still uncla...  \n",
       "3780  Claim a 200 shopping spree, just call 08717895...  \n",
       "4574  URGENT! This is the 2nd attempt to contact U!U...  \n",
       "881   Reminder: You have not downloaded the content ...  \n",
       "3132  LookAtMe!: Thanks for your purchase of a video...  \n",
       "4419                         When you get free, call me  \n",
       "2295   You have 1 new message. Please call 08718738034.  \n",
       "420   Send a logo 2 ur lover - 2 names joined by a h...  \n",
       "1060  EASTENDERS TV Quiz. What FLOWER does DOT compa...  \n",
       "5110    You have 1 new message. Please call 08715205273  \n",
       "1045  We know someone who you know that fancies you....  \n",
       "3905  Your 2004 account for 07XXXXXXXXX shows 786 un...  \n",
       "4965  Dear Voucher holder Have your next meal on us....  \n",
       "3443  Save money on wedding lingerie at www.bridal.p...  \n",
       "5     FreeMsg Hey there darling it's been 3 week's n...  \n",
       "3530  Xmas & New Years Eve tickets are now on sale f...  \n",
       "517   Boltblue tones for 150p Reply POLY# or MONO# e...  \n",
       "684   Hi I'm sue. I am 20 years old and work as a la...  \n",
       "3792  Twinks, bears, scallies, skins and jocks are c...  \n",
       "4073  Loans for any purpose even if you have Bad Cre...  \n",
       "1875  Would you like to see my XXX pics they are so ...  \n",
       "2313  tddnewsletter@emc1.co.uk (More games from TheD...  \n",
       "1328  Ur balance is now £500. Ur next question is: W...  \n",
       "4768  Your unique user ID is 1172. For removal send ...  \n",
       "5368  IMPORTANT MESSAGE. This is a final contact att...  \n",
       "3755  Bloomberg -Message center +447797706009 Why wa...  \n",
       "717                                             #ERROR!  \n",
       "5068  83039 62735=£450 UK Break AccommodationVoucher...  \n",
       "1893  CALL 09090900040 & LISTEN TO EXTREME DIRTY LIV...  \n",
       "4298  thesmszone.com lets you send free anonymous an...  \n",
       "1734  Hi, this is Mandy Sullivan calling from HOTMIX...  \n",
       "4394  RECPT 1/3. You have ordered a Ringtone. Your o...  \n",
       "4949  Hi this is Amy, we will be sending you a free ...  \n",
       "1172  Got what it takes 2 take part in the WRC Rally...  \n",
       "761   Romantic Paris. 2 nights, 2 flights from £79 B...  \n",
       "3991  (Bank of Granite issues Strong-Buy) EXPLOSIVE ...  \n",
       "2941   You have 1 new message. Please call 08712400200.  \n",
       "4673  Customer service announcement. We recently tri...  \n",
       "19    England v Macedonia - dont miss the goals/team...  "
      ]
     },
     "execution_count": 47,
     "metadata": {},
     "output_type": "execute_result"
    }
   ],
   "source": [
    "predictions_df[predictions_df['y_true'] != predictions_df['y_pred']]"
   ]
  },
  {
   "cell_type": "code",
   "execution_count": 130,
   "id": "7fa95462",
   "metadata": {},
   "outputs": [
    {
     "data": {
      "image/png": "[encoded data removed]",
      "text/plain": [
       "<Figure size 432x288 with 2 Axes>"
      ]
     },
     "metadata": {
      "needs_background": "light"
     },
     "output_type": "display_data"
    }
   ],
   "source": [
    "fig, ax = plt.subplots(1,2)\n",
    "ax[0].scatter(example_vector_tfidf, example_vector_tfidf)\n",
    "ax[0].set_title('TF-IDF vector')\n",
    "\n",
    "ax[1].scatter(example_vector_bow, example_vector_bow, color='r')\n",
    "ax[1].set_title('Bag of Words vector');"
   ]
  },
  {
   "cell_type": "markdown",
   "id": "c6a40852",
   "metadata": {},
   "source": [
    "## TOTHINK: what is the difference between these two vectorizers for the same sentence? \n",
    "While thinking about this, run the next line of code which downloads a Word2Vec model (~8 minutes)"
   ]
  },
  {
   "cell_type": "markdown",
   "id": "78831365",
   "metadata": {},
   "source": [
    "# Pretrained word embeddings\n",
    "A pretrained Word2Vec model, with 100 billion words"
   ]
  },
  {
   "cell_type": "code",
   "execution_count": 2,
   "id": "8f3a8cae",
   "metadata": {},
   "outputs": [
    {
     "name": "stdout",
     "output_type": "stream",
     "text": [
      "[==================================================] 100.0% 1662.8/1662.8MB downloaded\n"
     ]
    }
   ],
   "source": [
    "pretrained_model = api.load('word2vec-google-news-300')"
   ]
  },
  {
   "cell_type": "code",
   "execution_count": 165,
   "id": "d9f9f9ee",
   "metadata": {},
   "outputs": [
    {
     "data": {
      "text/plain": [
       "[('lectures', 0.8075485825538635),\n",
       " ('Lecture', 0.7942147254943848),\n",
       " ('Lectures', 0.718742847442627),\n",
       " ('colloquium', 0.6531552076339722),\n",
       " ('keynote_address', 0.650530219078064),\n",
       " ('Memorial_Lecture', 0.6435528993606567),\n",
       " ('seminar', 0.6332356333732605),\n",
       " ('Distinguished_Lecture', 0.6321801543235779),\n",
       " ('symposium', 0.6306586265563965),\n",
       " ('Lecture_Series', 0.6276640892028809)]"
      ]
     },
     "execution_count": 165,
     "metadata": {},
     "output_type": "execute_result"
    }
   ],
   "source": [
    "pretrained_model.most_similar('lecture')"
   ]
  },
  {
   "cell_type": "code",
   "execution_count": 243,
   "id": "4ddf506e",
   "metadata": {},
   "outputs": [
    {
     "data": {
      "text/plain": [
       "[('plane', 0.8348401784896851),\n",
       " ('airplanes', 0.7777001261711121),\n",
       " ('aircraft', 0.76496422290802),\n",
       " ('planes', 0.7335887551307678),\n",
       " ('jet', 0.7161610722541809),\n",
       " ('airliner', 0.7074956297874451),\n",
       " ('jetliner', 0.7066361308097839),\n",
       " ('Cessna', 0.6621297001838684),\n",
       " ('propeller_plane', 0.6470087170600891),\n",
       " ('jumbo_jet', 0.6442608833312988)]"
      ]
     },
     "execution_count": 243,
     "metadata": {},
     "output_type": "execute_result"
    }
   ],
   "source": [
    "pretrained_model.most_similar('airplane')"
   ]
  },
  {
   "cell_type": "code",
   "execution_count": 241,
   "id": "67847fe3",
   "metadata": {},
   "outputs": [
    {
     "data": {
      "text/plain": [
       "(300,)"
      ]
     },
     "execution_count": 241,
     "metadata": {},
     "output_type": "execute_result"
    }
   ],
   "source": [
    "# Where we had a vector size of 8440 words in the Bag of Words / TF-IDF model, we now have a size of 300\n",
    "pretrained_model['lecture'].shape"
   ]
  },
  {
   "cell_type": "code",
   "execution_count": 237,
   "id": "3550d826",
   "metadata": {},
   "outputs": [
    {
     "ename": "KeyError",
     "evalue": "\"Key 'anunknownword' not present\"",
     "output_type": "error",
     "traceback": [
      "\u001b[0;31m---------------------------------------------------------------------------\u001b[0m",
      "\u001b[0;31mKeyError\u001b[0m                                  Traceback (most recent call last)",
      "\u001b[0;32m/var/folders/kh/1hhnpyz915qg1bq4khh49wgh_0622p/T/ipykernel_89321/2216555752.py\u001b[0m in \u001b[0;36m<module>\u001b[0;34m\u001b[0m\n\u001b[0;32m----> 1\u001b[0;31m \u001b[0mpretrained_model\u001b[0m\u001b[0;34m[\u001b[0m\u001b[0;34m'anunknownword'\u001b[0m\u001b[0;34m]\u001b[0m\u001b[0;34m\u001b[0m\u001b[0;34m\u001b[0m\u001b[0m\n\u001b[0m",
      "\u001b[0;32m~/anaconda3/envs/spam-ham-classifier/lib/python3.8/site-packages/gensim/models/keyedvectors.py\u001b[0m in \u001b[0;36m__getitem__\u001b[0;34m(self, key_or_keys)\u001b[0m\n\u001b[1;32m    393\u001b[0m         \"\"\"\n\u001b[1;32m    394\u001b[0m         \u001b[0;32mif\u001b[0m \u001b[0misinstance\u001b[0m\u001b[0;34m(\u001b[0m\u001b[0mkey_or_keys\u001b[0m\u001b[0;34m,\u001b[0m \u001b[0m_KEY_TYPES\u001b[0m\u001b[0;34m)\u001b[0m\u001b[0;34m:\u001b[0m\u001b[0;34m\u001b[0m\u001b[0;34m\u001b[0m\u001b[0m\n\u001b[0;32m--> 395\u001b[0;31m             \u001b[0;32mreturn\u001b[0m \u001b[0mself\u001b[0m\u001b[0;34m.\u001b[0m\u001b[0mget_vector\u001b[0m\u001b[0;34m(\u001b[0m\u001b[0mkey_or_keys\u001b[0m\u001b[0;34m)\u001b[0m\u001b[0;34m\u001b[0m\u001b[0;34m\u001b[0m\u001b[0m\n\u001b[0m\u001b[1;32m    396\u001b[0m \u001b[0;34m\u001b[0m\u001b[0m\n\u001b[1;32m    397\u001b[0m         \u001b[0;32mreturn\u001b[0m \u001b[0mvstack\u001b[0m\u001b[0;34m(\u001b[0m\u001b[0;34m[\u001b[0m\u001b[0mself\u001b[0m\u001b[0;34m.\u001b[0m\u001b[0mget_vector\u001b[0m\u001b[0;34m(\u001b[0m\u001b[0mkey\u001b[0m\u001b[0;34m)\u001b[0m \u001b[0;32mfor\u001b[0m \u001b[0mkey\u001b[0m \u001b[0;32min\u001b[0m \u001b[0mkey_or_keys\u001b[0m\u001b[0;34m]\u001b[0m\u001b[0;34m)\u001b[0m\u001b[0;34m\u001b[0m\u001b[0;34m\u001b[0m\u001b[0m\n",
      "\u001b[0;32m~/anaconda3/envs/spam-ham-classifier/lib/python3.8/site-packages/gensim/models/keyedvectors.py\u001b[0m in \u001b[0;36mget_vector\u001b[0;34m(self, key, norm)\u001b[0m\n\u001b[1;32m    436\u001b[0m \u001b[0;34m\u001b[0m\u001b[0m\n\u001b[1;32m    437\u001b[0m         \"\"\"\n\u001b[0;32m--> 438\u001b[0;31m         \u001b[0mindex\u001b[0m \u001b[0;34m=\u001b[0m \u001b[0mself\u001b[0m\u001b[0;34m.\u001b[0m\u001b[0mget_index\u001b[0m\u001b[0;34m(\u001b[0m\u001b[0mkey\u001b[0m\u001b[0;34m)\u001b[0m\u001b[0;34m\u001b[0m\u001b[0;34m\u001b[0m\u001b[0m\n\u001b[0m\u001b[1;32m    439\u001b[0m         \u001b[0;32mif\u001b[0m \u001b[0mnorm\u001b[0m\u001b[0;34m:\u001b[0m\u001b[0;34m\u001b[0m\u001b[0;34m\u001b[0m\u001b[0m\n\u001b[1;32m    440\u001b[0m             \u001b[0mself\u001b[0m\u001b[0;34m.\u001b[0m\u001b[0mfill_norms\u001b[0m\u001b[0;34m(\u001b[0m\u001b[0;34m)\u001b[0m\u001b[0;34m\u001b[0m\u001b[0;34m\u001b[0m\u001b[0m\n",
      "\u001b[0;32m~/anaconda3/envs/spam-ham-classifier/lib/python3.8/site-packages/gensim/models/keyedvectors.py\u001b[0m in \u001b[0;36mget_index\u001b[0;34m(self, key, default)\u001b[0m\n\u001b[1;32m    410\u001b[0m             \u001b[0;32mreturn\u001b[0m \u001b[0mdefault\u001b[0m\u001b[0;34m\u001b[0m\u001b[0;34m\u001b[0m\u001b[0m\n\u001b[1;32m    411\u001b[0m         \u001b[0;32melse\u001b[0m\u001b[0;34m:\u001b[0m\u001b[0;34m\u001b[0m\u001b[0;34m\u001b[0m\u001b[0m\n\u001b[0;32m--> 412\u001b[0;31m             \u001b[0;32mraise\u001b[0m \u001b[0mKeyError\u001b[0m\u001b[0;34m(\u001b[0m\u001b[0;34mf\"Key '{key}' not present\"\u001b[0m\u001b[0;34m)\u001b[0m\u001b[0;34m\u001b[0m\u001b[0;34m\u001b[0m\u001b[0m\n\u001b[0m\u001b[1;32m    413\u001b[0m \u001b[0;34m\u001b[0m\u001b[0m\n\u001b[1;32m    414\u001b[0m     \u001b[0;32mdef\u001b[0m \u001b[0mget_vector\u001b[0m\u001b[0;34m(\u001b[0m\u001b[0mself\u001b[0m\u001b[0;34m,\u001b[0m \u001b[0mkey\u001b[0m\u001b[0;34m,\u001b[0m \u001b[0mnorm\u001b[0m\u001b[0;34m=\u001b[0m\u001b[0;32mFalse\u001b[0m\u001b[0;34m)\u001b[0m\u001b[0;34m:\u001b[0m\u001b[0;34m\u001b[0m\u001b[0;34m\u001b[0m\u001b[0m\n",
      "\u001b[0;31mKeyError\u001b[0m: \"Key 'anunknownword' not present\""
     ]
    }
   ],
   "source": [
    "pretrained_model['anunknownword']"
   ]
  },
  {
   "cell_type": "code",
   "execution_count": 232,
   "id": "61e9ccaf",
   "metadata": {},
   "outputs": [],
   "source": [
    "def average_embeddings(tokens,model):\n",
    "    embeddings = []\n",
    "    # get embedding for each token in the sentence\n",
    "    for token in tokens:\n",
    "        try:\n",
    "            embeddings.append(model[token])\n",
    "        except KeyError:\n",
    "            # if the word doesn't exist then use zeros with the size of the embedding\n",
    "            embeddings.append(np.zeros(300))\n",
    "    return np.mean(embeddings, axis=0)"
   ]
  },
  {
   "cell_type": "code",
   "execution_count": 239,
   "id": "7266886d",
   "metadata": {},
   "outputs": [
    {
     "name": "stdout",
     "output_type": "stream",
     "text": [
      "accuracy:  0.9614349775784753\n",
      "precision:  0.9193548387096774\n",
      "recall:  0.7755102040816326\n",
      "f1 score:  0.8413284132841327\n"
     ]
    }
   ],
   "source": [
    "# Load data\n",
    "data = pd.read_csv('spam.csv')\n",
    "\n",
    "# tokenize the sentences\n",
    "data['tokens'] = data['Message'].apply(word_tokenize)\n",
    "\n",
    "# get word embedding per token and average all embeddings in a sentence\n",
    "X = data['tokens'].apply(average_embeddings, args=(pretrained_model,)).to_list()\n",
    "\n",
    "# convert labels to numbers\n",
    "y = data['Category'].map(mapping)\n",
    "\n",
    "# Split data\n",
    "X_train, X_test, y_train, y_test = train_test_split(X, y, test_size=0.2, random_state=1)\n",
    "\n",
    "# Initialize a classifier\n",
    "clf = LogisticRegression()\n",
    "\n",
    "# Fit the model on the train data\n",
    "clf.fit(X_train, y_train)\n",
    "\n",
    "# Predict\n",
    "y_pred = clf.predict(X_test)\n",
    "\n",
    "# Evaluate!\n",
    "print('accuracy: ', accuracy_score(y_test, y_pred))\n",
    "print('precision: ', precision_score(y_test, y_pred))\n",
    "print('recall: ', recall_score(y_test, y_pred))\n",
    "print('f1 score: ', f1_score(y_test, y_pred))"
   ]
  }
 ],
 "metadata": {
  "kernelspec": {
   "display_name": "Python 3 (ipykernel)",
   "language": "python",
   "name": "python3"
  },
  "language_info": {
   "codemirror_mode": {
    "name": "ipython",
    "version": 3
   },
   "file_extension": ".py",
   "mimetype": "text/x-python",
   "name": "python",
   "nbconvert_exporter": "python",
   "pygments_lexer": "ipython3",
   "version": "3.8.12"
  }
 },
 "nbformat": 4,
 "nbformat_minor": 5
}
