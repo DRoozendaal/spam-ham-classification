{
 "cells": [
  {
   "cell_type": "code",
   "execution_count": 55,
   "id": "bdc1bcd1",
   "metadata": {
    "scrolled": true
   },
   "outputs": [],
   "source": [
    "# !pip install numpy\n",
    "# !pip install pandas\n",
    "# !pip install nltk\n",
    "# !pip install scikit-learn\n",
    "# !pip install matplotlib\n",
    "# !pip install wordcloud"
   ]
  },
  {
   "cell_type": "code",
   "execution_count": 145,
   "id": "10d965b8",
   "metadata": {},
   "outputs": [],
   "source": [
    "# import libraries\n",
    "from collections import Counter\n",
    "\n",
    "import pandas as pd\n",
    "import numpy as np\n",
    "import matplotlib.pyplot as plt\n",
    "\n",
    "from wordcloud import WordCloud\n",
    "import nltk\n",
    "from nltk.tokenize import word_tokenize\n",
    "\n",
    "from sklearn.metrics import precision_score, recall_score, f1_score, accuracy_score, confusion_matrix\n",
    "from sklearn.model_selection import train_test_split\n",
    "from sklearn.linear_model import LogisticRegression\n",
    "from sklearn.feature_extraction.text import CountVectorizer\n",
    "\n",
    "\n",
    "%matplotlib inline"
   ]
  },
  {
   "cell_type": "code",
   "execution_count": 57,
   "id": "dc673bf1",
   "metadata": {},
   "outputs": [
    {
     "name": "stderr",
     "output_type": "stream",
     "text": [
      "[nltk_data] Downloading package punkt to\n",
      "[nltk_data]     /Users/roozendaal/nltk_data...\n",
      "[nltk_data]   Package punkt is already up-to-date!\n"
     ]
    },
    {
     "data": {
      "text/plain": [
       "True"
      ]
     },
     "execution_count": 57,
     "metadata": {},
     "output_type": "execute_result"
    }
   ],
   "source": [
    "# download packages necessary for nltk\n",
    "nltk.download('punkt')"
   ]
  },
  {
   "cell_type": "markdown",
   "id": "a02f59f4",
   "metadata": {},
   "source": [
    "# Data Collection"
   ]
  },
  {
   "cell_type": "code",
   "execution_count": 58,
   "id": "579b49b0",
   "metadata": {},
   "outputs": [
    {
     "data": {
      "text/html": [
       "<div>\n",
       "<style scoped>\n",
       "    .dataframe tbody tr th:only-of-type {\n",
       "        vertical-align: middle;\n",
       "    }\n",
       "\n",
       "    .dataframe tbody tr th {\n",
       "        vertical-align: top;\n",
       "    }\n",
       "\n",
       "    .dataframe thead th {\n",
       "        text-align: right;\n",
       "    }\n",
       "</style>\n",
       "<table border=\"1\" class=\"dataframe\">\n",
       "  <thead>\n",
       "    <tr style=\"text-align: right;\">\n",
       "      <th></th>\n",
       "      <th>Category</th>\n",
       "      <th>Message</th>\n",
       "    </tr>\n",
       "  </thead>\n",
       "  <tbody>\n",
       "    <tr>\n",
       "      <th>0</th>\n",
       "      <td>ham</td>\n",
       "      <td>Go until jurong point, crazy.. Available only ...</td>\n",
       "    </tr>\n",
       "    <tr>\n",
       "      <th>1</th>\n",
       "      <td>ham</td>\n",
       "      <td>Ok lar... Joking wif u oni...</td>\n",
       "    </tr>\n",
       "    <tr>\n",
       "      <th>2</th>\n",
       "      <td>spam</td>\n",
       "      <td>Free entry in 2 a wkly comp to win FA Cup fina...</td>\n",
       "    </tr>\n",
       "    <tr>\n",
       "      <th>3</th>\n",
       "      <td>ham</td>\n",
       "      <td>U dun say so early hor... U c already then say...</td>\n",
       "    </tr>\n",
       "    <tr>\n",
       "      <th>4</th>\n",
       "      <td>ham</td>\n",
       "      <td>Nah I don't think he goes to usf, he lives aro...</td>\n",
       "    </tr>\n",
       "  </tbody>\n",
       "</table>\n",
       "</div>"
      ],
      "text/plain": [
       "  Category                                            Message\n",
       "0      ham  Go until jurong point, crazy.. Available only ...\n",
       "1      ham                      Ok lar... Joking wif u oni...\n",
       "2     spam  Free entry in 2 a wkly comp to win FA Cup fina...\n",
       "3      ham  U dun say so early hor... U c already then say...\n",
       "4      ham  Nah I don't think he goes to usf, he lives aro..."
      ]
     },
     "execution_count": 58,
     "metadata": {},
     "output_type": "execute_result"
    }
   ],
   "source": [
    "# Load in dataset\n",
    "data = pd.read_csv('spam.csv')\n",
    "data.head()"
   ]
  },
  {
   "cell_type": "markdown",
   "id": "ff35abf2",
   "metadata": {},
   "source": [
    "# Data Preparation"
   ]
  },
  {
   "cell_type": "code",
   "execution_count": 59,
   "id": "a822d0f1",
   "metadata": {},
   "outputs": [],
   "source": [
    "example = 'This is an example sentence, with some punctuation,.!     characters &* and smileys :)'"
   ]
  },
  {
   "cell_type": "code",
   "execution_count": 60,
   "id": "d175f03f",
   "metadata": {},
   "outputs": [
    {
     "data": {
      "text/plain": [
       "['This',\n",
       " 'is',\n",
       " 'an',\n",
       " 'example',\n",
       " 'sentence,',\n",
       " 'with',\n",
       " 'some',\n",
       " 'punctuation,.!',\n",
       " 'characters',\n",
       " '&*',\n",
       " 'and',\n",
       " 'smileys',\n",
       " ':)']"
      ]
     },
     "execution_count": 60,
     "metadata": {},
     "output_type": "execute_result"
    }
   ],
   "source": [
    "# split sentence on whitespace, keeping all punctuation as part of a word\n",
    "example.split()"
   ]
  },
  {
   "cell_type": "code",
   "execution_count": 61,
   "id": "dc4ccb03",
   "metadata": {},
   "outputs": [
    {
     "data": {
      "text/plain": [
       "['This',\n",
       " 'is',\n",
       " 'an',\n",
       " 'example',\n",
       " 'sentence',\n",
       " ',',\n",
       " 'with',\n",
       " 'some',\n",
       " 'punctuation',\n",
       " ',',\n",
       " '.',\n",
       " '!',\n",
       " 'characters',\n",
       " '&',\n",
       " '*',\n",
       " 'and',\n",
       " 'smileys',\n",
       " ':',\n",
       " ')']"
      ]
     },
     "execution_count": 61,
     "metadata": {},
     "output_type": "execute_result"
    }
   ],
   "source": [
    "# split on words and punctuation with word tokenizer from the nltk package\n",
    "word_tokenize(example)"
   ]
  },
  {
   "cell_type": "code",
   "execution_count": 62,
   "id": "697ec8df",
   "metadata": {},
   "outputs": [],
   "source": [
    "# Lowercase all words\n",
    "data['Message'] = data['Message'].str.lower()"
   ]
  },
  {
   "cell_type": "code",
   "execution_count": 63,
   "id": "76f18deb",
   "metadata": {},
   "outputs": [],
   "source": [
    "# Tokenize all sentences\n",
    "data['tokens'] = data['Message'].apply(word_tokenize)"
   ]
  },
  {
   "cell_type": "code",
   "execution_count": 64,
   "id": "8de9a7a0",
   "metadata": {},
   "outputs": [],
   "source": [
    "def remove_tokens(tokens, tokens_to_remove):\n",
    "    return [word for word in tokens if word not in tokens_to_remove]"
   ]
  },
  {
   "cell_type": "code",
   "execution_count": 65,
   "id": "179b239f",
   "metadata": {},
   "outputs": [],
   "source": [
    "# Remove stopwords\n",
    "stopwords = ['the', 'a', 'an', 'is']\n",
    "data['cleaned_tokens'] = data['tokens'].apply(remove_tokens, args=(stopwords,))"
   ]
  },
  {
   "cell_type": "code",
   "execution_count": 66,
   "id": "39efe750",
   "metadata": {},
   "outputs": [],
   "source": [
    "# Remove punctuation\n",
    "punctuation = [',', '.', ':']\n",
    "data['cleaned_tokens'] = data['tokens'].apply(remove_tokens, args=(punctuation,))"
   ]
  },
  {
   "cell_type": "code",
   "execution_count": 67,
   "id": "ccc73357",
   "metadata": {},
   "outputs": [],
   "source": [
    "# Stemming\n",
    "# There are 2 different stemmers, you can play around to see the difference!\n",
    "from nltk.stem import PorterStemmer\n",
    "from nltk.stem import LancasterStemmer"
   ]
  },
  {
   "cell_type": "code",
   "execution_count": 68,
   "id": "48df0db6",
   "metadata": {},
   "outputs": [],
   "source": [
    "porter_stemmer = PorterStemmer()\n",
    "lancaster_stemmer = LancasterStemmer()"
   ]
  },
  {
   "cell_type": "code",
   "execution_count": 69,
   "id": "272d0e2c",
   "metadata": {},
   "outputs": [],
   "source": [
    "def stem_tokens(tokens, stemmer):\n",
    "    return [stemmer.stem(token) for token in tokens]"
   ]
  },
  {
   "cell_type": "code",
   "execution_count": 70,
   "id": "5b780cce",
   "metadata": {},
   "outputs": [
    {
     "name": "stdout",
     "output_type": "stream",
     "text": [
      "porter stemmer:  ['connect', 'connect', 'connect', 'connect', 'connect', 'connectiion']\n",
      "lancaster stemmer:  ['connect', 'connect', 'connect', 'connect', 'connect', 'connecty']\n"
     ]
    }
   ],
   "source": [
    "examples = ['connect', 'connection', 'connections', 'connected', 'connecting', 'connectiion']\n",
    "\n",
    "print('porter stemmer: ', stem_tokens(examples, porter_stemmer))\n",
    "print('lancaster stemmer: ', stem_tokens(examples, lancaster_stemmer))"
   ]
  },
  {
   "cell_type": "code",
   "execution_count": 71,
   "id": "1dfb9406",
   "metadata": {},
   "outputs": [],
   "source": [
    "data['stemmed_tokens'] = data['cleaned_tokens'].apply(stem_tokens, args=(porter_stemmer,))"
   ]
  },
  {
   "cell_type": "code",
   "execution_count": 72,
   "id": "4e4ad1a4",
   "metadata": {},
   "outputs": [
    {
     "data": {
      "text/html": [
       "<div>\n",
       "<style scoped>\n",
       "    .dataframe tbody tr th:only-of-type {\n",
       "        vertical-align: middle;\n",
       "    }\n",
       "\n",
       "    .dataframe tbody tr th {\n",
       "        vertical-align: top;\n",
       "    }\n",
       "\n",
       "    .dataframe thead th {\n",
       "        text-align: right;\n",
       "    }\n",
       "</style>\n",
       "<table border=\"1\" class=\"dataframe\">\n",
       "  <thead>\n",
       "    <tr style=\"text-align: right;\">\n",
       "      <th></th>\n",
       "      <th>Category</th>\n",
       "      <th>Message</th>\n",
       "      <th>tokens</th>\n",
       "      <th>cleaned_tokens</th>\n",
       "      <th>stemmed_tokens</th>\n",
       "    </tr>\n",
       "  </thead>\n",
       "  <tbody>\n",
       "    <tr>\n",
       "      <th>0</th>\n",
       "      <td>ham</td>\n",
       "      <td>go until jurong point, crazy.. available only ...</td>\n",
       "      <td>[go, until, jurong, point, ,, crazy, .., avail...</td>\n",
       "      <td>[go, until, jurong, point, crazy, .., availabl...</td>\n",
       "      <td>[go, until, jurong, point, crazi, .., avail, o...</td>\n",
       "    </tr>\n",
       "    <tr>\n",
       "      <th>1</th>\n",
       "      <td>ham</td>\n",
       "      <td>ok lar... joking wif u oni...</td>\n",
       "      <td>[ok, lar, ..., joking, wif, u, oni, ...]</td>\n",
       "      <td>[ok, lar, ..., joking, wif, u, oni, ...]</td>\n",
       "      <td>[ok, lar, ..., joke, wif, u, oni, ...]</td>\n",
       "    </tr>\n",
       "  </tbody>\n",
       "</table>\n",
       "</div>"
      ],
      "text/plain": [
       "  Category                                            Message  \\\n",
       "0      ham  go until jurong point, crazy.. available only ...   \n",
       "1      ham                      ok lar... joking wif u oni...   \n",
       "\n",
       "                                              tokens  \\\n",
       "0  [go, until, jurong, point, ,, crazy, .., avail...   \n",
       "1           [ok, lar, ..., joking, wif, u, oni, ...]   \n",
       "\n",
       "                                      cleaned_tokens  \\\n",
       "0  [go, until, jurong, point, crazy, .., availabl...   \n",
       "1           [ok, lar, ..., joking, wif, u, oni, ...]   \n",
       "\n",
       "                                      stemmed_tokens  \n",
       "0  [go, until, jurong, point, crazi, .., avail, o...  \n",
       "1             [ok, lar, ..., joke, wif, u, oni, ...]  "
      ]
     },
     "execution_count": 72,
     "metadata": {},
     "output_type": "execute_result"
    }
   ],
   "source": [
    "data.head(2)"
   ]
  },
  {
   "cell_type": "markdown",
   "id": "923e5d10",
   "metadata": {},
   "source": [
    "# Data Exploration"
   ]
  },
  {
   "cell_type": "code",
   "execution_count": 73,
   "id": "45c1203f",
   "metadata": {},
   "outputs": [
    {
     "data": {
      "text/html": [
       "<div>\n",
       "<style scoped>\n",
       "    .dataframe tbody tr th:only-of-type {\n",
       "        vertical-align: middle;\n",
       "    }\n",
       "\n",
       "    .dataframe tbody tr th {\n",
       "        vertical-align: top;\n",
       "    }\n",
       "\n",
       "    .dataframe thead th {\n",
       "        text-align: right;\n",
       "    }\n",
       "</style>\n",
       "<table border=\"1\" class=\"dataframe\">\n",
       "  <thead>\n",
       "    <tr style=\"text-align: right;\">\n",
       "      <th></th>\n",
       "      <th>Message</th>\n",
       "      <th>tokens</th>\n",
       "      <th>cleaned_tokens</th>\n",
       "      <th>stemmed_tokens</th>\n",
       "    </tr>\n",
       "    <tr>\n",
       "      <th>Category</th>\n",
       "      <th></th>\n",
       "      <th></th>\n",
       "      <th></th>\n",
       "      <th></th>\n",
       "    </tr>\n",
       "  </thead>\n",
       "  <tbody>\n",
       "    <tr>\n",
       "      <th>ham</th>\n",
       "      <td>4825</td>\n",
       "      <td>4825</td>\n",
       "      <td>4825</td>\n",
       "      <td>4825</td>\n",
       "    </tr>\n",
       "    <tr>\n",
       "      <th>spam</th>\n",
       "      <td>747</td>\n",
       "      <td>747</td>\n",
       "      <td>747</td>\n",
       "      <td>747</td>\n",
       "    </tr>\n",
       "  </tbody>\n",
       "</table>\n",
       "</div>"
      ],
      "text/plain": [
       "          Message  tokens  cleaned_tokens  stemmed_tokens\n",
       "Category                                                 \n",
       "ham          4825    4825            4825            4825\n",
       "spam          747     747             747             747"
      ]
     },
     "execution_count": 73,
     "metadata": {},
     "output_type": "execute_result"
    }
   ],
   "source": [
    "# Count the number of ham / spam in the Category column\n",
    "data.groupby('Category').count()"
   ]
  },
  {
   "cell_type": "code",
   "execution_count": 134,
   "id": "30d77263",
   "metadata": {},
   "outputs": [
    {
     "data": {
      "text/plain": [
       "<AxesSubplot:>"
      ]
     },
     "execution_count": 134,
     "metadata": {},
     "output_type": "execute_result"
    },
    {
     "data": {
      "image/png": "[encoded data removed]",
      "text/plain": [
       "<Figure size 432x288 with 1 Axes>"
      ]
     },
     "metadata": {
      "needs_background": "light"
     },
     "output_type": "display_data"
    }
   ],
   "source": [
    "# Distribution of the nr of words per sentence\n",
    "data['stemmed_tokens'].str.len().hist(bins=100)"
   ]
  },
  {
   "cell_type": "code",
   "execution_count": 74,
   "id": "623f5c2b",
   "metadata": {},
   "outputs": [],
   "source": [
    "# Make separate variables for spam and ham categories\n",
    "ham = data[data['Category'] == 'ham']\n",
    "spam = data[data['Category'] == 'spam']"
   ]
  },
  {
   "cell_type": "code",
   "execution_count": 75,
   "id": "15ef0814",
   "metadata": {},
   "outputs": [
    {
     "data": {
      "text/plain": [
       "i      2880\n",
       "you    1939\n",
       "to     1562\n",
       "?      1375\n",
       "...    1139\n",
       "the    1131\n",
       "a      1064\n",
       "u       994\n",
       "it      924\n",
       "and     856\n",
       "Name: stemmed_tokens, dtype: int64"
      ]
     },
     "execution_count": 75,
     "metadata": {},
     "output_type": "execute_result"
    }
   ],
   "source": [
    "# Store all tokens for category ham in one list, \"explode\" is a very handy buildin function for that\n",
    "ham_tokens = ham.explode('stemmed_tokens')['stemmed_tokens']\n",
    "# Count the frequencies per word\n",
    "ham_tokens.value_counts()[:10]"
   ]
  },
  {
   "cell_type": "code",
   "execution_count": 76,
   "id": "2c3a02be",
   "metadata": {},
   "outputs": [
    {
     "data": {
      "text/plain": [
       "to      687\n",
       "!       546\n",
       "a       377\n",
       "call    362\n",
       "you     297\n",
       "your    278\n",
       "free    219\n",
       "the     203\n",
       "for     203\n",
       "now     199\n",
       "Name: stemmed_tokens, dtype: int64"
      ]
     },
     "execution_count": 76,
     "metadata": {},
     "output_type": "execute_result"
    }
   ],
   "source": [
    "# Store all tokens for category spam in one list\n",
    "spam_tokens = spam.explode('stemmed_tokens')['stemmed_tokens']\n",
    "# Count the frequencies per word\n",
    "spam_tokens.value_counts()[:10]"
   ]
  },
  {
   "cell_type": "code",
   "execution_count": 77,
   "id": "1e4fb6ca",
   "metadata": {},
   "outputs": [
    {
     "data": {
      "image/png": "[encoded data removed]",
      "text/plain": [
       "<Figure size 576x576 with 1 Axes>"
      ]
     },
     "metadata": {
      "needs_background": "light"
     },
     "output_type": "display_data"
    }
   ],
   "source": [
    "# Show word cloud for spam tokens\n",
    "# TODO: try with ham tokens\n",
    "one_big_string_of_tokens = ' '.join(spam_tokens)\n",
    "wordcloud = WordCloud(width = 800, height = 800,\n",
    "                background_color ='white',\n",
    "                min_font_size = 10).generate(one_big_string_of_tokens)\n",
    " \n",
    "plt.figure(figsize = (8, 8), facecolor = None)\n",
    "plt.imshow(wordcloud)\n",
    "plt.axis(\"off\");"
   ]
  },
  {
   "cell_type": "code",
   "execution_count": 78,
   "id": "27d81294",
   "metadata": {},
   "outputs": [],
   "source": [
    "# Make a vocabulary for typical spam and ham keywords\n",
    "spam_keywords = ['claim', 'win', 'repli', 'urgent', 'call', 'free', 'prize', 'now', 'txt', '$', 'click', 'here',\n",
    "                'onlin', 'select']\n",
    "ham_keywords = ['go', 'love', 'come', 'will', 'thanks', 'hope', 'time', 'friend', 'tonight', 'tomorrow', \n",
    "                'ok', 'meet', 'darl']\n",
    "ham_spam_vocabulary = sorted(spam_keywords + ham_keywords)"
   ]
  },
  {
   "cell_type": "code",
   "execution_count": 79,
   "id": "8336e0fd",
   "metadata": {},
   "outputs": [],
   "source": [
    "# The Data exploration / preparation phase usually consists of a few iterations\n",
    "# TODO: add more punctuation\n",
    "# TODO: add more stopwords\n",
    "# TODO: add more spam / ham keywords"
   ]
  },
  {
   "cell_type": "markdown",
   "id": "2434dec6",
   "metadata": {},
   "source": [
    "# Word vectors"
   ]
  },
  {
   "cell_type": "code",
   "execution_count": 80,
   "id": "6bf41a70",
   "metadata": {},
   "outputs": [],
   "source": [
    "def transform_text_to_vector(tokens, vocabulary):\n",
    "    # count frequency of the vocabulary words per message and store in a sorted (alphabetical) list = vector\n",
    "    word_frequencies = []\n",
    "    for vocabulary_word in vocabulary:\n",
    "        word_frequencies.append(tokens.count(vocabulary_word))\n",
    "    return np.array(word_frequencies)"
   ]
  },
  {
   "cell_type": "code",
   "execution_count": 81,
   "id": "3def0a5a",
   "metadata": {},
   "outputs": [
    {
     "data": {
      "text/plain": [
       "'winner!! as a valued network customer you have been selected to receivea £900 prize reward! to claim call 09061701461. claim code kl341. valid 12 hours only.'"
      ]
     },
     "execution_count": 81,
     "metadata": {},
     "output_type": "execute_result"
    }
   ],
   "source": [
    "# Example message\n",
    "data['Message'].iloc[8]"
   ]
  },
  {
   "cell_type": "code",
   "execution_count": 135,
   "id": "b37fbebf",
   "metadata": {},
   "outputs": [
    {
     "name": "stdout",
     "output_type": "stream",
     "text": [
      "['$', 'call', 'claim', 'click', 'come', 'darl', 'free', 'friend', 'go', 'here', 'hope', 'love', 'meet', 'now', 'ok', 'onlin', 'prize', 'repli', 'select', 'thanks', 'time', 'tomorrow', 'tonight', 'txt', 'urgent', 'will', 'win', '£']\n"
     ]
    }
   ],
   "source": [
    "# vocabulary\n",
    "print(ham_spam_vocabulary)"
   ]
  },
  {
   "cell_type": "code",
   "execution_count": 136,
   "id": "282c69d4",
   "metadata": {},
   "outputs": [
    {
     "data": {
      "text/plain": [
       "array([0, 1, 2, 0, 0, 0, 0, 0, 0, 0, 0, 0, 0, 0, 0, 0, 1, 0, 1, 0, 0, 0,\n",
       "       0, 0, 0, 0, 0, 0])"
      ]
     },
     "execution_count": 136,
     "metadata": {},
     "output_type": "execute_result"
    }
   ],
   "source": [
    "# The vector of the message containing the counts for typical ham/spam keywords\n",
    "vectors = transform_text_to_vector(data['stemmed_tokens'].iloc[8], ham_spam_vocabulary)\n",
    "vectors"
   ]
  },
  {
   "cell_type": "code",
   "execution_count": 137,
   "id": "63bd5104",
   "metadata": {},
   "outputs": [],
   "source": [
    "# Make vectors out of all messages\n",
    "vectors = data['stemmed_tokens'].apply(transform_text_to_vector, args=(ham_spam_vocabulary,))"
   ]
  },
  {
   "cell_type": "markdown",
   "id": "610e7528",
   "metadata": {},
   "source": [
    "# Data modelling"
   ]
  },
  {
   "cell_type": "code",
   "execution_count": 138,
   "id": "24338e0f",
   "metadata": {},
   "outputs": [],
   "source": [
    "# Transform labels to numbers\n",
    "mapping = {'ham': 0,\n",
    "          \"spam\": 1}\n",
    "\n",
    "data['labels'] = data['Category'].map(mapping)"
   ]
  },
  {
   "cell_type": "code",
   "execution_count": 139,
   "id": "4987debc",
   "metadata": {},
   "outputs": [],
   "source": [
    "X = list(vectors)\n",
    "y = data['labels']"
   ]
  },
  {
   "cell_type": "code",
   "execution_count": 140,
   "id": "2f1eaded",
   "metadata": {},
   "outputs": [],
   "source": [
    "# Split the data in train, validation and test sets\n",
    "X_train, X_test, y_train, y_test = train_test_split(X, y, test_size=0.2, random_state=1)\n",
    "X_train, X_val, y_train, y_val = train_test_split(X_train, y_train, test_size=0.25, random_state=1) # 0.25 x 0.8 = 0.2"
   ]
  },
  {
   "cell_type": "code",
   "execution_count": 141,
   "id": "f66fd9a9",
   "metadata": {
    "scrolled": true
   },
   "outputs": [
    {
     "name": "stdout",
     "output_type": "stream",
     "text": [
      "3342 1115 1115\n"
     ]
    }
   ],
   "source": [
    "print(len(X_train), len(X_val), len(X_test))"
   ]
  },
  {
   "cell_type": "code",
   "execution_count": 147,
   "id": "d2b26693",
   "metadata": {},
   "outputs": [
    {
     "data": {
      "text/plain": [
       "(0    2865\n",
       " 1     477\n",
       " Name: labels, dtype: int64,\n",
       " 0    992\n",
       " 1    123\n",
       " Name: labels, dtype: int64,\n",
       " 0    968\n",
       " 1    147\n",
       " Name: labels, dtype: int64)"
      ]
     },
     "execution_count": 147,
     "metadata": {},
     "output_type": "execute_result"
    }
   ],
   "source": [
    "# make sure that the all sets contain enough spam and ham labels\n",
    "y_train.value_counts(), y_val.value_counts(), y_test.value_counts()"
   ]
  },
  {
   "cell_type": "code",
   "execution_count": null,
   "id": "2aa7542e",
   "metadata": {},
   "outputs": [],
   "source": [
    "# TOTHINK: What happens if the train data does not contain any or litte spam labels? \n",
    "# You could try it out by only including a few spam labels in the trainset! \n",
    "# And play around with the nr of spam lables in the val set"
   ]
  },
  {
   "cell_type": "code",
   "execution_count": 113,
   "id": "8f2541f8",
   "metadata": {
    "scrolled": true
   },
   "outputs": [
    {
     "data": {
      "text/plain": [
       "LogisticRegression()"
      ]
     },
     "execution_count": 113,
     "metadata": {},
     "output_type": "execute_result"
    }
   ],
   "source": [
    "# Initialize a classifier\n",
    "clf = LogisticRegression()\n",
    "\n",
    "# Fit the model on the train data\n",
    "clf.fit(X_train, y_train)"
   ]
  },
  {
   "cell_type": "code",
   "execution_count": 114,
   "id": "bf54087c",
   "metadata": {
    "scrolled": true
   },
   "outputs": [],
   "source": [
    "# Predict the validation set!\n",
    "predictions = clf.predict(X_val)"
   ]
  },
  {
   "cell_type": "markdown",
   "id": "298e7f8a",
   "metadata": {},
   "source": [
    "# Evaluation \n",
    "dummy data"
   ]
  },
  {
   "cell_type": "code",
   "execution_count": 45,
   "id": "d676693e",
   "metadata": {},
   "outputs": [
    {
     "data": {
      "text/plain": [
       "0.8571428571428571"
      ]
     },
     "execution_count": 45,
     "metadata": {},
     "output_type": "execute_result"
    }
   ],
   "source": [
    "# For each predictions was it a correct one? 6/7 are correct\n",
    "y_true = np.array([0, 1, 0, 1, 0, 1, 1])\n",
    "y_pred = np.array([0, 1, 0, 1, 0, 0, 1])\n",
    "accuracy_score(y_true, y_pred)"
   ]
  },
  {
   "cell_type": "code",
   "execution_count": 46,
   "id": "34f492b3",
   "metadata": {},
   "outputs": [
    {
     "data": {
      "text/plain": [
       "1.0"
      ]
     },
     "execution_count": 46,
     "metadata": {},
     "output_type": "execute_result"
    }
   ],
   "source": [
    "# Precision: how many retrieved items are relevant?\n",
    "\n",
    "# Out of all \"positive\" predicted items? How many are truly positive?\n",
    "# The 3 positive predictions are truly positive\n",
    "y_true = np.array([0, 1, 0, 1, 0, 1, 1])\n",
    "y_pred = np.array([0, 1, 0, 1, 0, 0, 1])\n",
    "precision_score(y_true, y_pred)"
   ]
  },
  {
   "cell_type": "code",
   "execution_count": 47,
   "id": "626e18ce",
   "metadata": {},
   "outputs": [
    {
     "data": {
      "text/plain": [
       "0.75"
      ]
     },
     "execution_count": 47,
     "metadata": {},
     "output_type": "execute_result"
    }
   ],
   "source": [
    "# Recall: How many relevant items are retrieved?\n",
    "\n",
    "# Out of all items that were truly \"positive\"? How many did \"positive\"  did we predict? \n",
    "# 3 out of 4 predictions are positive\n",
    "y_true = np.array([0, 1, 0, 1, 0, 1, 1])\n",
    "y_pred = np.array([0, 1, 0, 1, 0, 0, 1])\n",
    "recall_score(y_true, y_pred)"
   ]
  },
  {
   "cell_type": "code",
   "execution_count": 48,
   "id": "30fdab28",
   "metadata": {},
   "outputs": [
    {
     "data": {
      "text/plain": [
       "0.8571428571428571"
      ]
     },
     "execution_count": 48,
     "metadata": {},
     "output_type": "execute_result"
    }
   ],
   "source": [
    "# Weighted average of precision and recall\n",
    "y_true = np.array([0, 1, 0, 1, 0, 1, 1])\n",
    "y_pred = np.array([0, 1, 0, 1, 0, 0, 1])\n",
    "f1_score(y_true, y_pred)"
   ]
  },
  {
   "cell_type": "markdown",
   "id": "d68da4e5",
   "metadata": {},
   "source": [
    "# Evaluation \n",
    "Ham / Spam data"
   ]
  },
  {
   "cell_type": "code",
   "execution_count": 148,
   "id": "5dee4cc8",
   "metadata": {},
   "outputs": [],
   "source": [
    "y_true = y_val.copy()\n",
    "y_pred = clf.predict(X_val)"
   ]
  },
  {
   "cell_type": "code",
   "execution_count": 149,
   "id": "894ffc73",
   "metadata": {},
   "outputs": [
    {
     "name": "stdout",
     "output_type": "stream",
     "text": [
      "accuracy:  0.9443946188340807\n",
      "precision:  0.8674698795180723\n",
      "recall:  0.5853658536585366\n",
      "f1 score:  0.6990291262135921\n"
     ]
    }
   ],
   "source": [
    "print('accuracy: ', accuracy_score(y_true, y_pred))\n",
    "print('precision: ', precision_score(y_true, y_pred))\n",
    "print('recall: ', recall_score(y_true, y_pred))\n",
    "print('f1 score: ', f1_score(y_true, y_pred))"
   ]
  },
  {
   "cell_type": "code",
   "execution_count": 151,
   "id": "1a5c14cf",
   "metadata": {},
   "outputs": [
    {
     "data": {
      "text/plain": [
       "array([[981,  11],\n",
       "       [ 51,  72]])"
      ]
     },
     "execution_count": 151,
     "metadata": {},
     "output_type": "execute_result"
    }
   ],
   "source": [
    "confusion_matrix(y_true, y_pred)"
   ]
  },
  {
   "cell_type": "markdown",
   "id": "ece7d54b",
   "metadata": {},
   "source": [
    "# Error analysis"
   ]
  },
  {
   "cell_type": "code",
   "execution_count": 152,
   "id": "66517f6f",
   "metadata": {},
   "outputs": [],
   "source": [
    "# make a new dataframe with categories, true labels and predicted labels\n",
    "predictions_df = pd.DataFrame(data['Category'].loc[y_true.index])\n",
    "predictions_df['y_true'] = y_true\n",
    "predictions_df['y_pred'] = y_pred\n",
    "predictions_df['message'] = data.loc[y_true.index, 'Message']"
   ]
  },
  {
   "cell_type": "code",
   "execution_count": 153,
   "id": "b1da17d6",
   "metadata": {},
   "outputs": [
    {
     "data": {
      "text/html": [
       "<div>\n",
       "<style scoped>\n",
       "    .dataframe tbody tr th:only-of-type {\n",
       "        vertical-align: middle;\n",
       "    }\n",
       "\n",
       "    .dataframe tbody tr th {\n",
       "        vertical-align: top;\n",
       "    }\n",
       "\n",
       "    .dataframe thead th {\n",
       "        text-align: right;\n",
       "    }\n",
       "</style>\n",
       "<table border=\"1\" class=\"dataframe\">\n",
       "  <thead>\n",
       "    <tr style=\"text-align: right;\">\n",
       "      <th></th>\n",
       "      <th>Category</th>\n",
       "      <th>y_true</th>\n",
       "      <th>y_pred</th>\n",
       "      <th>message</th>\n",
       "    </tr>\n",
       "  </thead>\n",
       "  <tbody>\n",
       "    <tr>\n",
       "      <th>3738</th>\n",
       "      <td>ham</td>\n",
       "      <td>0</td>\n",
       "      <td>1</td>\n",
       "      <td>plz note: if anyone calling from a mobile co. ...</td>\n",
       "    </tr>\n",
       "    <tr>\n",
       "      <th>5041</th>\n",
       "      <td>spam</td>\n",
       "      <td>1</td>\n",
       "      <td>0</td>\n",
       "      <td>natalie (20/f) is inviting you to be her frien...</td>\n",
       "    </tr>\n",
       "    <tr>\n",
       "      <th>3768</th>\n",
       "      <td>ham</td>\n",
       "      <td>0</td>\n",
       "      <td>1</td>\n",
       "      <td>sir goodmorning, once free call me.</td>\n",
       "    </tr>\n",
       "    <tr>\n",
       "      <th>3568</th>\n",
       "      <td>spam</td>\n",
       "      <td>1</td>\n",
       "      <td>0</td>\n",
       "      <td>collect your valentine's weekend to paris inc ...</td>\n",
       "    </tr>\n",
       "    <tr>\n",
       "      <th>3720</th>\n",
       "      <td>spam</td>\n",
       "      <td>1</td>\n",
       "      <td>0</td>\n",
       "      <td>thanks for your ringtone order, reference numb...</td>\n",
       "    </tr>\n",
       "    <tr>\n",
       "      <th>...</th>\n",
       "      <td>...</td>\n",
       "      <td>...</td>\n",
       "      <td>...</td>\n",
       "      <td>...</td>\n",
       "    </tr>\n",
       "    <tr>\n",
       "      <th>3303</th>\n",
       "      <td>ham</td>\n",
       "      <td>0</td>\n",
       "      <td>1</td>\n",
       "      <td>stop calling everyone saying i might have canc...</td>\n",
       "    </tr>\n",
       "    <tr>\n",
       "      <th>3222</th>\n",
       "      <td>spam</td>\n",
       "      <td>1</td>\n",
       "      <td>0</td>\n",
       "      <td>thanks for your ringtone order, reference numb...</td>\n",
       "    </tr>\n",
       "    <tr>\n",
       "      <th>5365</th>\n",
       "      <td>spam</td>\n",
       "      <td>1</td>\n",
       "      <td>0</td>\n",
       "      <td>camera - you are awarded a sipix digital camer...</td>\n",
       "    </tr>\n",
       "    <tr>\n",
       "      <th>474</th>\n",
       "      <td>spam</td>\n",
       "      <td>1</td>\n",
       "      <td>0</td>\n",
       "      <td>want 2 get laid tonight? want real dogging loc...</td>\n",
       "    </tr>\n",
       "    <tr>\n",
       "      <th>731</th>\n",
       "      <td>spam</td>\n",
       "      <td>1</td>\n",
       "      <td>0</td>\n",
       "      <td>email alertfrom: jeri stewartsize: 2kbsubject:...</td>\n",
       "    </tr>\n",
       "  </tbody>\n",
       "</table>\n",
       "<p>62 rows × 4 columns</p>\n",
       "</div>"
      ],
      "text/plain": [
       "     Category  y_true  y_pred  \\\n",
       "3738      ham       0       1   \n",
       "5041     spam       1       0   \n",
       "3768      ham       0       1   \n",
       "3568     spam       1       0   \n",
       "3720     spam       1       0   \n",
       "...       ...     ...     ...   \n",
       "3303      ham       0       1   \n",
       "3222     spam       1       0   \n",
       "5365     spam       1       0   \n",
       "474      spam       1       0   \n",
       "731      spam       1       0   \n",
       "\n",
       "                                                message  \n",
       "3738  plz note: if anyone calling from a mobile co. ...  \n",
       "5041  natalie (20/f) is inviting you to be her frien...  \n",
       "3768                sir goodmorning, once free call me.  \n",
       "3568  collect your valentine's weekend to paris inc ...  \n",
       "3720  thanks for your ringtone order, reference numb...  \n",
       "...                                                 ...  \n",
       "3303  stop calling everyone saying i might have canc...  \n",
       "3222  thanks for your ringtone order, reference numb...  \n",
       "5365  camera - you are awarded a sipix digital camer...  \n",
       "474   want 2 get laid tonight? want real dogging loc...  \n",
       "731   email alertfrom: jeri stewartsize: 2kbsubject:...  \n",
       "\n",
       "[62 rows x 4 columns]"
      ]
     },
     "execution_count": 153,
     "metadata": {},
     "output_type": "execute_result"
    }
   ],
   "source": [
    "# Explore the wrong predictions\n",
    "predictions_df[predictions_df['y_true'] != predictions_df['y_pred']]"
   ]
  },
  {
   "cell_type": "code",
   "execution_count": null,
   "id": "0fb4db40",
   "metadata": {},
   "outputs": [],
   "source": [
    "# I think we can push the scores way higher! \n",
    "# You can play around and do many many iterations with the validation set\n",
    "\n",
    "# If you're satisfied with the results, you can use the model for \"unseen\" messages -> the test set!"
   ]
  },
  {
   "cell_type": "markdown",
   "id": "38e823d5",
   "metadata": {},
   "source": [
    "# THE SHORT WAY"
   ]
  },
  {
   "cell_type": "code",
   "execution_count": 154,
   "id": "f513b478",
   "metadata": {},
   "outputs": [
    {
     "name": "stdout",
     "output_type": "stream",
     "text": [
      "accuracy:  0.9829596412556054\n",
      "precision:  0.9923076923076923\n",
      "recall:  0.8775510204081632\n",
      "f1 score:  0.9314079422382673\n"
     ]
    }
   ],
   "source": [
    "# Load data\n",
    "data = pd.read_csv('spam.csv')\n",
    "\n",
    "# Initialize the Bag of Words model\n",
    "# This model does lowercasing, tokenization, stemming and optionally removal of stopwords! \n",
    "cv = CountVectorizer(stop_words='english')\n",
    "\n",
    "# vectorize the sentences\n",
    "X = cv.fit_transform(data['Message']).toarray()\n",
    "y = data['Category'].map(mapping)\n",
    "\n",
    "# Split data\n",
    "X_train, X_test, y_train, y_test = train_test_split(X, y, test_size=0.2, random_state=1)\n",
    "\n",
    "# Initialize a classifier\n",
    "clf = LogisticRegression()\n",
    "\n",
    "# Fit the model on the train data\n",
    "clf.fit(X_train, y_train)\n",
    "\n",
    "# Predict\n",
    "y_pred = clf.predict(X_test)\n",
    "\n",
    "# Evaluate!\n",
    "print('accuracy: ', accuracy_score(y_test, y_pred))\n",
    "print('precision: ', precision_score(y_test, y_pred))\n",
    "print('recall: ', recall_score(y_test, y_pred))\n",
    "print('f1 score: ', f1_score(y_test, y_pred))"
   ]
  },
  {
   "cell_type": "code",
   "execution_count": 155,
   "id": "ed07a237",
   "metadata": {},
   "outputs": [
    {
     "data": {
      "text/plain": [
       "array([[967,   1],\n",
       "       [ 18, 129]])"
      ]
     },
     "execution_count": 155,
     "metadata": {},
     "output_type": "execute_result"
    }
   ],
   "source": [
    "confusion_matrix(y_test, y_pred)"
   ]
  },
  {
   "cell_type": "code",
   "execution_count": 157,
   "id": "b22522d6",
   "metadata": {},
   "outputs": [],
   "source": [
    "predictions_df = pd.DataFrame(data['Category'].loc[y_test.index])\n",
    "predictions_df['y_true'] = y_test\n",
    "predictions_df['y_pred'] = y_pred\n",
    "predictions_df['message'] = data.loc[y_test.index, 'Message']"
   ]
  },
  {
   "cell_type": "code",
   "execution_count": 158,
   "id": "f482dbd4",
   "metadata": {},
   "outputs": [
    {
     "data": {
      "text/html": [
       "<div>\n",
       "<style scoped>\n",
       "    .dataframe tbody tr th:only-of-type {\n",
       "        vertical-align: middle;\n",
       "    }\n",
       "\n",
       "    .dataframe tbody tr th {\n",
       "        vertical-align: top;\n",
       "    }\n",
       "\n",
       "    .dataframe thead th {\n",
       "        text-align: right;\n",
       "    }\n",
       "</style>\n",
       "<table border=\"1\" class=\"dataframe\">\n",
       "  <thead>\n",
       "    <tr style=\"text-align: right;\">\n",
       "      <th></th>\n",
       "      <th>Category</th>\n",
       "      <th>y_true</th>\n",
       "      <th>y_pred</th>\n",
       "      <th>message</th>\n",
       "    </tr>\n",
       "  </thead>\n",
       "  <tbody>\n",
       "    <tr>\n",
       "      <th>1777</th>\n",
       "      <td>spam</td>\n",
       "      <td>1</td>\n",
       "      <td>0</td>\n",
       "      <td>Call FREEPHONE 0800 542 0578 now!</td>\n",
       "    </tr>\n",
       "    <tr>\n",
       "      <th>1217</th>\n",
       "      <td>spam</td>\n",
       "      <td>1</td>\n",
       "      <td>0</td>\n",
       "      <td>You have 1 new voicemail. Please call 08719181...</td>\n",
       "    </tr>\n",
       "    <tr>\n",
       "      <th>763</th>\n",
       "      <td>spam</td>\n",
       "      <td>1</td>\n",
       "      <td>0</td>\n",
       "      <td>Urgent Ur £500 guaranteed award is still uncla...</td>\n",
       "    </tr>\n",
       "    <tr>\n",
       "      <th>3780</th>\n",
       "      <td>spam</td>\n",
       "      <td>1</td>\n",
       "      <td>0</td>\n",
       "      <td>Claim a 200 shopping spree, just call 08717895...</td>\n",
       "    </tr>\n",
       "    <tr>\n",
       "      <th>3132</th>\n",
       "      <td>spam</td>\n",
       "      <td>1</td>\n",
       "      <td>0</td>\n",
       "      <td>LookAtMe!: Thanks for your purchase of a video...</td>\n",
       "    </tr>\n",
       "    <tr>\n",
       "      <th>2295</th>\n",
       "      <td>spam</td>\n",
       "      <td>1</td>\n",
       "      <td>0</td>\n",
       "      <td>You have 1 new message. Please call 08718738034.</td>\n",
       "    </tr>\n",
       "    <tr>\n",
       "      <th>5110</th>\n",
       "      <td>spam</td>\n",
       "      <td>1</td>\n",
       "      <td>0</td>\n",
       "      <td>You have 1 new message. Please call 08715205273</td>\n",
       "    </tr>\n",
       "    <tr>\n",
       "      <th>1045</th>\n",
       "      <td>spam</td>\n",
       "      <td>1</td>\n",
       "      <td>0</td>\n",
       "      <td>We know someone who you know that fancies you....</td>\n",
       "    </tr>\n",
       "    <tr>\n",
       "      <th>5</th>\n",
       "      <td>spam</td>\n",
       "      <td>1</td>\n",
       "      <td>0</td>\n",
       "      <td>FreeMsg Hey there darling it's been 3 week's n...</td>\n",
       "    </tr>\n",
       "    <tr>\n",
       "      <th>4073</th>\n",
       "      <td>spam</td>\n",
       "      <td>1</td>\n",
       "      <td>0</td>\n",
       "      <td>Loans for any purpose even if you have Bad Cre...</td>\n",
       "    </tr>\n",
       "    <tr>\n",
       "      <th>1875</th>\n",
       "      <td>spam</td>\n",
       "      <td>1</td>\n",
       "      <td>0</td>\n",
       "      <td>Would you like to see my XXX pics they are so ...</td>\n",
       "    </tr>\n",
       "    <tr>\n",
       "      <th>717</th>\n",
       "      <td>spam</td>\n",
       "      <td>1</td>\n",
       "      <td>0</td>\n",
       "      <td>#ERROR!</td>\n",
       "    </tr>\n",
       "    <tr>\n",
       "      <th>1893</th>\n",
       "      <td>spam</td>\n",
       "      <td>1</td>\n",
       "      <td>0</td>\n",
       "      <td>CALL 09090900040 &amp; LISTEN TO EXTREME DIRTY LIV...</td>\n",
       "    </tr>\n",
       "    <tr>\n",
       "      <th>4394</th>\n",
       "      <td>spam</td>\n",
       "      <td>1</td>\n",
       "      <td>0</td>\n",
       "      <td>RECPT 1/3. You have ordered a Ringtone. Your o...</td>\n",
       "    </tr>\n",
       "    <tr>\n",
       "      <th>4949</th>\n",
       "      <td>spam</td>\n",
       "      <td>1</td>\n",
       "      <td>0</td>\n",
       "      <td>Hi this is Amy, we will be sending you a free ...</td>\n",
       "    </tr>\n",
       "    <tr>\n",
       "      <th>761</th>\n",
       "      <td>spam</td>\n",
       "      <td>1</td>\n",
       "      <td>0</td>\n",
       "      <td>Romantic Paris. 2 nights, 2 flights from £79 B...</td>\n",
       "    </tr>\n",
       "    <tr>\n",
       "      <th>3991</th>\n",
       "      <td>spam</td>\n",
       "      <td>1</td>\n",
       "      <td>0</td>\n",
       "      <td>(Bank of Granite issues Strong-Buy) EXPLOSIVE ...</td>\n",
       "    </tr>\n",
       "    <tr>\n",
       "      <th>1497</th>\n",
       "      <td>ham</td>\n",
       "      <td>0</td>\n",
       "      <td>1</td>\n",
       "      <td>I'm always on yahoo messenger now. Just send t...</td>\n",
       "    </tr>\n",
       "    <tr>\n",
       "      <th>2941</th>\n",
       "      <td>spam</td>\n",
       "      <td>1</td>\n",
       "      <td>0</td>\n",
       "      <td>You have 1 new message. Please call 08712400200.</td>\n",
       "    </tr>\n",
       "  </tbody>\n",
       "</table>\n",
       "</div>"
      ],
      "text/plain": [
       "     Category  y_true  y_pred  \\\n",
       "1777     spam       1       0   \n",
       "1217     spam       1       0   \n",
       "763      spam       1       0   \n",
       "3780     spam       1       0   \n",
       "3132     spam       1       0   \n",
       "2295     spam       1       0   \n",
       "5110     spam       1       0   \n",
       "1045     spam       1       0   \n",
       "5        spam       1       0   \n",
       "4073     spam       1       0   \n",
       "1875     spam       1       0   \n",
       "717      spam       1       0   \n",
       "1893     spam       1       0   \n",
       "4394     spam       1       0   \n",
       "4949     spam       1       0   \n",
       "761      spam       1       0   \n",
       "3991     spam       1       0   \n",
       "1497      ham       0       1   \n",
       "2941     spam       1       0   \n",
       "\n",
       "                                                message  \n",
       "1777                  Call FREEPHONE 0800 542 0578 now!  \n",
       "1217  You have 1 new voicemail. Please call 08719181...  \n",
       "763   Urgent Ur £500 guaranteed award is still uncla...  \n",
       "3780  Claim a 200 shopping spree, just call 08717895...  \n",
       "3132  LookAtMe!: Thanks for your purchase of a video...  \n",
       "2295   You have 1 new message. Please call 08718738034.  \n",
       "5110    You have 1 new message. Please call 08715205273  \n",
       "1045  We know someone who you know that fancies you....  \n",
       "5     FreeMsg Hey there darling it's been 3 week's n...  \n",
       "4073  Loans for any purpose even if you have Bad Cre...  \n",
       "1875  Would you like to see my XXX pics they are so ...  \n",
       "717                                             #ERROR!  \n",
       "1893  CALL 09090900040 & LISTEN TO EXTREME DIRTY LIV...  \n",
       "4394  RECPT 1/3. You have ordered a Ringtone. Your o...  \n",
       "4949  Hi this is Amy, we will be sending you a free ...  \n",
       "761   Romantic Paris. 2 nights, 2 flights from £79 B...  \n",
       "3991  (Bank of Granite issues Strong-Buy) EXPLOSIVE ...  \n",
       "1497  I'm always on yahoo messenger now. Just send t...  \n",
       "2941   You have 1 new message. Please call 08712400200.  "
      ]
     },
     "execution_count": 158,
     "metadata": {},
     "output_type": "execute_result"
    }
   ],
   "source": [
    "predictions_df[predictions_df['y_true'] != predictions_df['y_pred']]"
   ]
  }
 ],
 "metadata": {
  "kernelspec": {
   "display_name": "Python 3",
   "language": "python",
   "name": "python3"
  },
  "language_info": {
   "codemirror_mode": {
    "name": "ipython",
    "version": 3
   },
   "file_extension": ".py",
   "mimetype": "text/x-python",
   "name": "python",
   "nbconvert_exporter": "python",
   "pygments_lexer": "ipython3",
   "version": "3.8.8"
  }
 },
 "nbformat": 4,
 "nbformat_minor": 5
}
